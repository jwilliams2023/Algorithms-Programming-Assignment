{
 "cells": [
  {
   "cell_type": "markdown",
   "id": "2cb0ac3d-eac4-48b6-b213-f7ee36790407",
   "metadata": {
    "jp-MarkdownHeadingCollapsed": true
   },
   "source": [
    "# Joseph Williams, Joshua Chen Programming Assignment"
   ]
  },
  {
   "cell_type": "code",
   "execution_count": 219,
   "id": "a750a508-14ac-4116-9c6d-ce0ade3eebcb",
   "metadata": {},
   "outputs": [
    {
     "name": "stdout",
     "output_type": "stream",
     "text": [
      "Python 3.12.4\n",
      "4.0.11\n"
     ]
    }
   ],
   "source": [
    "import numpy as np\n",
    "import pandas as pd\n",
    "import time as t\n",
    "\n",
    "! python3 --version\n",
    "! jupyter lab --version"
   ]
  },
  {
   "cell_type": "markdown",
   "id": "c3adc748-5460-4c00-b875-8f74a9a00b4b",
   "metadata": {},
   "source": [
    "# Matrix Multiplcation Problem"
   ]
  },
  {
   "cell_type": "markdown",
   "id": "a2bb5562-1773-4fab-a4c0-c3cf7bc6c5ec",
   "metadata": {
    "jp-MarkdownHeadingCollapsed": true
   },
   "source": [
    "### Define Matrices from input.txt"
   ]
  },
  {
   "cell_type": "code",
   "execution_count": 2,
   "id": "e81cfb52-d93c-4b40-8532-dd04be8157eb",
   "metadata": {},
   "outputs": [
    {
     "name": "stdout",
     "output_type": "stream",
     "text": [
      "Matrix A:\n",
      " [[ 1.  2.  3.  4.]\n",
      " [ 5.  6.  7.  8.]\n",
      " [ 9. 10. 11. 12.]\n",
      " [13. 14. 15. 16.]]\n",
      "Matrix B:\n",
      " [[ 1.  2.  3.  4.]\n",
      " [ 5.  6.  7.  8.]\n",
      " [ 9. 10. 11. 12.]\n",
      " [13. 14. 15. 16.]]\n",
      "\n",
      "\n"
     ]
    }
   ],
   "source": [
    "with open(\"input.txt\") as input_file:  \n",
    "    # read from a file named “input.txt” \n",
    "    data = input_file.read() \n",
    "    split_file = data.split(\";\")\n",
    "    matrix_values_a, matrix_values_b = split_file[0].split(\",\"), split_file[1].split(\",\")\n",
    "\n",
    "    # Create two 4 × 4 matrices containing the 16 integers from each sequence\n",
    "    matrix_a = np.array(matrix_values_a, dtype=float).reshape(4,4)\n",
    "    matrix_b = np.array(matrix_values_b, dtype=float).reshape(4,4)\n",
    "\n",
    "    # Show Matrices\n",
    "    print(f'Matrix A:\\n {matrix_a}')\n",
    "    print(f'Matrix B:\\n {matrix_b}')\n",
    "    print(\"\\n\")"
   ]
  },
  {
   "cell_type": "markdown",
   "id": "f8d5368b-c724-4558-9d5d-e792a4dc4185",
   "metadata": {
    "jp-MarkdownHeadingCollapsed": true
   },
   "source": [
    "### Extract dimensions p, q, r"
   ]
  },
  {
   "cell_type": "code",
   "execution_count": 3,
   "id": "f66d6352-2ac8-435c-8ab3-5992b473a083",
   "metadata": {},
   "outputs": [
    {
     "name": "stdout",
     "output_type": "stream",
     "text": [
      "P: 4\n",
      "Q: 4\n",
      "R: 4\n"
     ]
    }
   ],
   "source": [
    "p, q, r = matrix_a.shape[0], matrix_a.shape[1], matrix_b.shape[1]\n",
    "\n",
    "print(f'P: {p}\\nQ: {q}\\nR: {r}')"
   ]
  },
  {
   "cell_type": "markdown",
   "id": "2565380b-3bab-43e2-b1f4-e926b6da5c97",
   "metadata": {},
   "source": [
    "## Define Algorithms 1-5"
   ]
  },
  {
   "cell_type": "markdown",
   "id": "a76337a0-78d7-4f25-b5e3-1601b049dd59",
   "metadata": {},
   "source": [
    "### Algorithm 1 - inputs are A is p x q, B is q x r, and C is p x r matrix and output is a product matrix C"
   ]
  },
  {
   "cell_type": "code",
   "execution_count": 4,
   "id": "1f1b43e8-fe05-4156-8521-40134c01d07b",
   "metadata": {},
   "outputs": [],
   "source": [
    "def algorithm_1(A, B, C, p, q, r):\n",
    "    # Algorithm as defined in assigment instructions\n",
    "    for i in range(p):\n",
    "        for j in range(r):\n",
    "            sum = 0\n",
    "            for k in range(q):\n",
    "                sum += A[i][k] * B[k][j]\n",
    "            C[i][j] = sum\n",
    "    return C"
   ]
  },
  {
   "cell_type": "markdown",
   "id": "d78a46aa-4068-402e-8d23-e23a19bd8349",
   "metadata": {},
   "source": [
    "### Algorithm 2 - inputs are A is p x q, B is q x r, and C is p x r matrix, T is step size and block muiltplies to output a product matrix C"
   ]
  },
  {
   "cell_type": "code",
   "execution_count": 5,
   "id": "f39fc80a-cd8d-4071-8f4d-c47067b1d3bd",
   "metadata": {},
   "outputs": [],
   "source": [
    "def algorithm_2(A, B, C, p, q, r, T=5):\n",
    "    # Algorithm as defined in assigment instructions\n",
    "    for I in range(0, p, T):\n",
    "        for J in range(0, r, T):\n",
    "            for K in range(0, q, T):\n",
    "                for i in range(I, min(I + T, p)):\n",
    "                    for j in range(J, min(J + T, r)):\n",
    "                        sum = 0\n",
    "                        for k in range(K, min(K + T, q)):\n",
    "                            sum += A[i][k] * B[k][j]\n",
    "                        C[i][j] += sum\n",
    "    return C"
   ]
  },
  {
   "cell_type": "markdown",
   "id": "65466591-8716-4385-9db1-8b19d899604b",
   "metadata": {},
   "source": [
    "### Algorithm 3 - inputs are A is p x q, B is q x r, and C is p x r matrix, splits matrices into 2 and recursivaly solves for a product maxtrix C"
   ]
  },
  {
   "cell_type": "code",
   "execution_count": 6,
   "id": "b1bbf307-9c64-4318-afb5-bd5af292ed69",
   "metadata": {},
   "outputs": [],
   "source": [
    "def algorithm_3(A, B, C, p, q, r):\n",
    "    # Determine the maximum dimension\n",
    "    max_value = max(p, q, r)\n",
    "    \n",
    "    # Base case\n",
    "    if p == 1 or q == 1 or r == 1:\n",
    "        return algorithm_1(A, B, np.zeros((p, r)), p, q, r)\n",
    "\n",
    "    # Determine the Split\n",
    "    if max_value == p:\n",
    "        div_p = p // 2\n",
    "        \n",
    "        # Split A horizontally\n",
    "        a_1 = A[:div_p, :]\n",
    "        a_2 = A[div_p:, :]\n",
    "\n",
    "        # Recalculate p & q\n",
    "        p_1, q_1 = a_1.shape\n",
    "        p_2, q_2 = a_2.shape\n",
    "        \n",
    "        # Recursive calls\n",
    "        c_1 = algorithm_3(a_1, B, np.zeros((p_1, r)), p_1, q_1, r)\n",
    "        c_2 = algorithm_3(a_2, B, np.zeros((p_2, r)), p_2, q_2, r)\n",
    "\n",
    "        # Combine results vertically\n",
    "        C = np.vstack((c_1, c_2))\n",
    "    \n",
    "    elif max_value == r:\n",
    "        div_r = r // 2\n",
    "        \n",
    "        # Split B vertically\n",
    "        b_1 = B[:, :div_r]\n",
    "        b_2 = B[:, div_r:]\n",
    "\n",
    "        # Recalculate r\n",
    "        r_1 = b_1.shape[1]\n",
    "        r_2 = b_2.shape[1]\n",
    "        \n",
    "        # Recursive calls\n",
    "        c_1 = algorithm_3(A, b_1, np.zeros((p, r_1)), p, q, r_1)\n",
    "        c_2 = algorithm_3(A, b_2, np.zeros((p, r_2)), p, q, r_2)\n",
    "\n",
    "        # Combine results horizontally\n",
    "        C = np.hstack((c_1, c_2))\n",
    "    \n",
    "    else:\n",
    "        div_p = p // 2\n",
    "        div_r = r // 2\n",
    "        \n",
    "        # Split A horizontally \n",
    "        a_1 = A[:div_p, :]\n",
    "        a_2 = A[div_p:, :]\n",
    "        \n",
    "        # Split B vertically\n",
    "        b_1 = B[:, :div_r]\n",
    "        b_2 = B[:, div_r:]\n",
    "\n",
    "        # Recalculate p, q, & r\n",
    "        p_1, q_1 = a_1.shape\n",
    "        p_2, q_2 = a_2.shape\n",
    "        r_1 = b_1.shape[1]\n",
    "        r_2 = b_2.shape[1]\n",
    "\n",
    "        # Recursive calls\n",
    "        c_11 = algorithm_3(a_1, b_1, np.zeros((p_1, r_1)), p_1, q_1, r_1)\n",
    "        c_12 = algorithm_3(a_1, b_2, np.zeros((p_1, r_1)), p_1, q_1, r_2)\n",
    "        c_21 = algorithm_3(a_2, b_1, np.zeros((p_2, r_1)), p_2, q_2, r_1)\n",
    "        c_22 = algorithm_3(a_2, b_2, np.zeros((p_2, r_2)), p_2, q_2, r_2)\n",
    "\n",
    "        # Combine results\n",
    "        top = np.hstack((c_11, c_12))\n",
    "        bottom = np.hstack((c_21, c_22))\n",
    "        \n",
    "        C = np.vstack((top, bottom))\n",
    "\n",
    "    return C"
   ]
  },
  {
   "cell_type": "markdown",
   "id": "4be166e6-8907-4bfb-82f4-d09a0083e194",
   "metadata": {
    "jp-MarkdownHeadingCollapsed": true
   },
   "source": [
    "### Algorithm 4 - Strassens algorithm where inputs are A is 2n x 2n , B is 2n x 2n , and C is 2n x 2n matrix using recursive splitting and addition on block matrices whose dimensions are powers of 2 until the base case and outputs the product matrix C"
   ]
  },
  {
   "cell_type": "code",
   "execution_count": 7,
   "id": "94bb39c7-4f10-4888-a0b8-752e2ff2ea2a",
   "metadata": {},
   "outputs": [],
   "source": [
    "def algorithm_4(A, B, C):\n",
    "    n = A.shape[0]\n",
    "    div = n // 2\n",
    "    \n",
    "    if n <= 1:\n",
    "        C += A * B\n",
    "        \n",
    "    else: \n",
    "        a_1_1 = A[:div, :div]\n",
    "        a_1_2 = A[:div, div:n]\n",
    "        a_2_1 = A[div:n, :div]\n",
    "        a_2_2 = A[div:n, div:]\n",
    "        \n",
    "        b_1_1 = B[:div, :div]\n",
    "        b_1_2 = B[:div, div:n]\n",
    "        b_2_1 = B[div:n, :div]\n",
    "        b_2_2 = B[div:n, div:]\n",
    "\n",
    "        c_1_1 = np.zeros((div, div))\n",
    "        c_1_2 = np.zeros((div, div))\n",
    "        c_2_1 = np.zeros((div, div))\n",
    "        c_2_2 = np.zeros((div, div))\n",
    "        \n",
    "        S_1 = b_1_2 - b_2_2\n",
    "        S_2 = a_1_1 + a_1_2\n",
    "        S_3 = a_2_1 + a_2_2\n",
    "        S_4 = b_2_1 - b_1_1\n",
    "        S_5 = a_1_1 + a_2_2\n",
    "        S_6 = b_1_1 + b_2_2\n",
    "        S_7 = a_1_2 - a_2_2\n",
    "        S_8 = b_2_1 + b_2_2\n",
    "        S_9 = a_1_1 - a_2_1\n",
    "        S_10 = b_1_1 + b_1_2\n",
    "\n",
    "        P_1 = algorithm_4(a_1_1, S_1, np.zeros((div,div)))\n",
    "        P_2 = algorithm_4(S_2, b_2_2, np.zeros((div, div)))\n",
    "        P_3 = algorithm_4(S_3, b_1_1, np.zeros((div, div)))\n",
    "        P_4 = algorithm_4(a_2_2, S_4, np.zeros((div, div)))\n",
    "        P_5 = algorithm_4(S_5, S_6, np.zeros((div, div)))\n",
    "        P_6 = algorithm_4(S_7, S_8, np.zeros((div, div)))\n",
    "        P_7 = algorithm_4(S_9, S_10, np.zeros((div, div)))\n",
    "\n",
    "        c_1_1 += P_5 + P_4 - P_2 + P_6\n",
    "        c_1_2 += P_1 + P_2\n",
    "        c_2_1 += P_3 + P_4\n",
    "        c_2_2 += P_5 + P_1 - P_3 - P_7\n",
    "\n",
    "        C += np.vstack((np.hstack((c_1_1, c_1_2)), np.hstack((c_2_1, c_2_2))))\n",
    "        \n",
    "    return C"
   ]
  },
  {
   "cell_type": "markdown",
   "id": "72204c3d-e505-4c93-979a-0e64a87936d4",
   "metadata": {
    "jp-MarkdownHeadingCollapsed": true
   },
   "source": [
    "### Algorithm 5 - variation of Strassens algorithm where inputs are A is 2n x 2n , B is 2n x 2n , and C is 2n x 2n matrix using recursive splitting and then addition on block matrices whose dimensions are powers of 2  and then multiplies them at the base case to output a product matrix C"
   ]
  },
  {
   "cell_type": "code",
   "execution_count": 8,
   "id": "80831dd6-9b00-4abd-aee5-09c0d81e3cd1",
   "metadata": {},
   "outputs": [],
   "source": [
    "def algorithm_5(A, B, C):\n",
    "    n = A.shape[0]\n",
    "    div = n // 2\n",
    "    \n",
    "    if n < 3:\n",
    "        p, q, r = A.shape[0], A.shape[1], B.shape[1]\n",
    "        algorithm_1(A, B, C, p, q, r)\n",
    "        \n",
    "    else: \n",
    "        a_1_1 = A[:div, :div]\n",
    "        a_1_2 = A[:div, div:n]\n",
    "        a_2_1 = A[div:n, :div]\n",
    "        a_2_2 = A[div:n, div:]\n",
    "        \n",
    "        b_1_1 = B[:div, :div]\n",
    "        b_1_2 = B[:div, div:n]\n",
    "        b_2_1 = B[div:n, :div]\n",
    "        b_2_2 = B[div:n, div:]\n",
    "\n",
    "        c_1_1 = np.zeros((div, div))\n",
    "        c_1_2 = np.zeros((div, div))\n",
    "        c_2_1 = np.zeros((div, div))\n",
    "        c_2_2 = np.zeros((div, div))\n",
    "\n",
    "        M_1 = algorithm_5(a_1_1 + a_2_2, b_1_1 + b_2_2, np.zeros((div,div)))\n",
    "        M_2 = algorithm_5(a_2_1 + a_2_2, b_1_1, np.zeros((div,div)))\n",
    "        M_3 = algorithm_5(a_1_1, b_1_2 - b_2_2, np.zeros((div,div)))\n",
    "        M_4 = algorithm_5(a_2_2, b_2_1 - b_1_1, np.zeros((div,div)))\n",
    "        M_5 = algorithm_5(a_1_1 + a_1_2, b_2_2, np.zeros((div,div)))\n",
    "        M_6 = algorithm_5(a_2_1 - a_1_1, b_1_1 + b_1_2, np.zeros((div,div)))\n",
    "        M_7 = algorithm_5(a_1_2 - a_2_2, b_2_1 + b_2_2, np.zeros((div,div)))\n",
    "\n",
    "        c_1_1 += M_1 + M_4 - M_5 + M_7\n",
    "        c_1_2 += M_3 + M_5\n",
    "        c_2_1 += M_2 + M_4\n",
    "        c_2_2 += M_1 - M_2 + M_3 + M_6\n",
    "\n",
    "        C += np.vstack((np.hstack((c_1_1, c_1_2)), np.hstack((c_2_1, c_2_2))))\n",
    "        \n",
    "    return C"
   ]
  },
  {
   "cell_type": "markdown",
   "id": "60dae034-992c-4b45-8e14-08ba2a4c0191",
   "metadata": {
    "jp-MarkdownHeadingCollapsed": true
   },
   "source": [
    "## Running Each Algorithm"
   ]
  },
  {
   "cell_type": "code",
   "execution_count": 9,
   "id": "f6c3fe54-4111-4d20-9709-552bf761976f",
   "metadata": {},
   "outputs": [
    {
     "name": "stdout",
     "output_type": "stream",
     "text": [
      "Algorithm 1:\n",
      " [[ 90. 100. 110. 120.]\n",
      " [202. 228. 254. 280.]\n",
      " [314. 356. 398. 440.]\n",
      " [426. 484. 542. 600.]];\n",
      " Algorithm 2:\n",
      " [[ 90. 100. 110. 120.]\n",
      " [202. 228. 254. 280.]\n",
      " [314. 356. 398. 440.]\n",
      " [426. 484. 542. 600.]];\n",
      " Algorithm 3:\n",
      " [[ 90. 100. 110. 120.]\n",
      " [202. 228. 254. 280.]\n",
      " [314. 356. 398. 440.]\n",
      " [426. 484. 542. 600.]];\n",
      " Algorithm 4:\n",
      " [[ 90. 100. 110. 120.]\n",
      " [202. 228. 254. 280.]\n",
      " [314. 356. 398. 440.]\n",
      " [426. 484. 542. 600.]];\n",
      " Algorithm 5:\n",
      " [[ 90. 100. 110. 120.]\n",
      " [202. 228. 254. 280.]\n",
      " [314. 356. 398. 440.]\n",
      " [426. 484. 542. 600.]];\n",
      "\n"
     ]
    }
   ],
   "source": [
    "# Algorithm 1\n",
    "matrix_c = np.zeros((p,r))\n",
    "alg_1_answer = algorithm_1(matrix_a, matrix_b, matrix_c, p, q, r)\n",
    "\n",
    "# Algorithm 2\n",
    "matrix_c = np.zeros((p,r))\n",
    "alg_2_answer = algorithm_2(matrix_a, matrix_b, matrix_c, p, q, r)\n",
    "\n",
    "# Algorithm 3\n",
    "matrix_c = np.zeros((p,r))\n",
    "alg_3_answer = algorithm_3(matrix_a, matrix_b, matrix_c, p, q, r)\n",
    "\n",
    "# Algorithm 4\n",
    "matrix_c = np.zeros((p,r))\n",
    "alg_4_answer = algorithm_4(matrix_a, matrix_b, matrix_c)\n",
    "\n",
    "# Algorithm 5\n",
    "matrix_c = np.zeros((p,r))\n",
    "alg_5_answer = algorithm_5(matrix_a, matrix_b, matrix_c)\n",
    "\n",
    "print(f'Algorithm 1:\\n {alg_1_answer};\\n Algorithm 2:\\n {alg_2_answer};\\n Algorithm 3:\\n {alg_3_answer};\\n Algorithm 4:\\n {alg_4_answer};\\n Algorithm 5:\\n {alg_5_answer};\\n')"
   ]
  },
  {
   "cell_type": "markdown",
   "id": "651fca86-3eaf-4923-8385-f0c567f939be",
   "metadata": {},
   "source": [
    "## Experiment 1"
   ]
  },
  {
   "cell_type": "markdown",
   "id": "760b5664-1824-48ff-8594-16b25030662d",
   "metadata": {
    "jp-MarkdownHeadingCollapsed": true
   },
   "source": [
    "### Generate 30 pairs of matrices containing random values between 0 and 1 from sizes 10x10 to 300x300"
   ]
  },
  {
   "cell_type": "code",
   "execution_count": 10,
   "id": "02e592ad-993f-4d1e-b21d-ce5dabbb5798",
   "metadata": {},
   "outputs": [],
   "source": [
    "matrix_pairs = []\n",
    "for shape in range(10, 310, 10):\n",
    "    matrix_1 = np.random.rand(shape, shape)\n",
    "    matrix_2 = np.random.rand(shape, shape)\n",
    "    matrix_pairs.append([matrix_1, matrix_2])"
   ]
  },
  {
   "cell_type": "markdown",
   "id": "45d98a1d-cbef-42eb-aa5a-ce213ed3af7e",
   "metadata": {
    "jp-MarkdownHeadingCollapsed": true
   },
   "source": [
    "### Create an empty Pandas DataFrame to store the matrix pair dimensions and the algorithm execution times"
   ]
  },
  {
   "cell_type": "code",
   "execution_count": 11,
   "id": "9630b114-db8e-446e-a293-ec591b24340a",
   "metadata": {},
   "outputs": [
    {
     "data": {
      "text/html": [
       "<div>\n",
       "<style scoped>\n",
       "    .dataframe tbody tr th:only-of-type {\n",
       "        vertical-align: middle;\n",
       "    }\n",
       "\n",
       "    .dataframe tbody tr th {\n",
       "        vertical-align: top;\n",
       "    }\n",
       "\n",
       "    .dataframe thead th {\n",
       "        text-align: right;\n",
       "    }\n",
       "</style>\n",
       "<table border=\"1\" class=\"dataframe\">\n",
       "  <thead>\n",
       "    <tr style=\"text-align: right;\">\n",
       "      <th></th>\n",
       "      <th>dim</th>\n",
       "      <th>alg_1_time</th>\n",
       "      <th>alg_2_time</th>\n",
       "      <th>alg_3_time</th>\n",
       "      <th>alg_1_pred</th>\n",
       "      <th>alg_2_pred</th>\n",
       "      <th>alg_3_pred</th>\n",
       "    </tr>\n",
       "  </thead>\n",
       "  <tbody>\n",
       "  </tbody>\n",
       "</table>\n",
       "</div>"
      ],
      "text/plain": [
       "Empty DataFrame\n",
       "Columns: [dim, alg_1_time, alg_2_time, alg_3_time, alg_1_pred, alg_2_pred, alg_3_pred]\n",
       "Index: []"
      ]
     },
     "execution_count": 11,
     "metadata": {},
     "output_type": "execute_result"
    }
   ],
   "source": [
    "# Build the column structure for results dataframe\n",
    "df = pd.DataFrame({\n",
    "    'dim': [],\n",
    "    \n",
    "    'alg_1_time': [],\n",
    "    'alg_2_time': [],\n",
    "    'alg_3_time': [],\n",
    "    \n",
    "    'alg_1_pred': [],\n",
    "    'alg_2_pred': [],\n",
    "    'alg_3_pred': [],\n",
    "})\n",
    "\n",
    "# Show dimension as integer\n",
    "df['dim'] = df['dim'].astype(int)\n",
    "\n",
    "# Show calculated complexities as integers\n",
    "df['alg_1_pred'] = df['alg_1_pred'].astype(int)\n",
    "df['alg_2_pred'] = df['alg_2_pred'].astype(int)\n",
    "df['alg_3_pred'] = df['alg_3_pred'].astype(int)\n",
    "\n",
    "# Confirm column structure in dataframe\n",
    "df.head(1)"
   ]
  },
  {
   "cell_type": "markdown",
   "id": "ba24df77-1a5b-4cac-9dda-a1c1aa4632b7",
   "metadata": {},
   "source": [
    "### Time Algorithms 1, 2, & 3 using the matrix pairs and store the results to the DataFrame"
   ]
  },
  {
   "cell_type": "code",
   "execution_count": 12,
   "id": "1808bc52-a7c2-4c9e-833b-31daf0c5033f",
   "metadata": {},
   "outputs": [
    {
     "name": "stdout",
     "output_type": "stream",
     "text": [
      "Timing matrix pair 1...\n",
      "Timing matrix pair 2...\n",
      "Timing matrix pair 3...\n",
      "Timing matrix pair 4...\n",
      "Timing matrix pair 5...\n",
      "Timing matrix pair 6...\n",
      "Timing matrix pair 7...\n",
      "Timing matrix pair 8...\n",
      "Timing matrix pair 9...\n",
      "Timing matrix pair 10...\n",
      "Timing matrix pair 11...\n",
      "Timing matrix pair 12...\n",
      "Timing matrix pair 13...\n",
      "Timing matrix pair 14...\n",
      "Timing matrix pair 15...\n",
      "Timing matrix pair 16...\n",
      "Timing matrix pair 17...\n",
      "Timing matrix pair 18...\n",
      "Timing matrix pair 19...\n",
      "Timing matrix pair 20...\n",
      "Timing matrix pair 21...\n",
      "Timing matrix pair 22...\n",
      "Timing matrix pair 23...\n",
      "Timing matrix pair 24...\n",
      "Timing matrix pair 25...\n",
      "Timing matrix pair 26...\n",
      "Timing matrix pair 27...\n",
      "Timing matrix pair 28...\n",
      "Timing matrix pair 29...\n",
      "Timing matrix pair 30...\n",
      "Results Ready\n"
     ]
    }
   ],
   "source": [
    "new_rows = []\n",
    "for i, pair in enumerate(matrix_pairs):\n",
    "    print(f'Timing matrix pair {i + 1}...')\n",
    "    A, B = pair[0], pair[1], \n",
    "    p, q, r = A.shape[0], A.shape[1], B.shape[1]\n",
    "    C = np.zeros((p, r))\n",
    "    \n",
    "    # 5 runs to take average\n",
    "    alg_1_times, alg_2_times, alg_3_times = [], [], []\n",
    "    for i in range(5):\n",
    "        # Timing Algorithm 1\n",
    "        t1 = t.time()\n",
    "        alg_1_answer = algorithm_1(A, B, C, p, q, r)\n",
    "        t2 = t.time()\n",
    "        alg_1_times.append(t2 - t1)\n",
    "    \n",
    "        # Timing Algorithm 2\n",
    "        t1 = t.time()\n",
    "        alg_2_answer = algorithm_2(A, B, C, p, q, r)\n",
    "        t2 = t.time()\n",
    "        alg_2_times.append(t2 - t1)\n",
    "    \n",
    "        # Timing Algorithm 3\n",
    "        t1 = t.time()\n",
    "        alg_3_answer = algorithm_3(A, B, C, p, q, r)\n",
    "        t2 = t.time()\n",
    "        alg_3_times.append(t2 - t1)\n",
    "        \n",
    "    # Take averages from 5 runs\n",
    "    alg_1_time = np.mean(alg_1_times)\n",
    "    alg_2_time = np.mean(alg_2_times)\n",
    "    alg_3_time = np.mean(alg_3_times)\n",
    "    \n",
    "    # Generate a new row for the DataFrame\n",
    "    new_row = {\n",
    "    'dim': p,\n",
    "    'alg_1_time': round(alg_1_time, 5),\n",
    "    'alg_2_time': round(alg_2_time, 5),\n",
    "    'alg_3_time': round(alg_3_time, 5),\n",
    "    'alg_1_pred': np.power(p, 3),\n",
    "    'alg_2_pred': np.power(p, 3),\n",
    "    'alg_3_pred': round(np.power(p, 2) * np.log2(p))\n",
    "    }\n",
    "    \n",
    "    new_rows.append(new_row)\n",
    "\n",
    "# Add data to the DataFrame\n",
    "df = pd.concat([df, pd.DataFrame(new_rows)], ignore_index=True)\n",
    "print(\"Results Ready\")"
   ]
  },
  {
   "cell_type": "code",
   "execution_count": 13,
   "id": "859591e9-deb0-438c-aa79-f794c2c55cf3",
   "metadata": {},
   "outputs": [
    {
     "data": {
      "text/html": [
       "<style type=\"text/css\">\n",
       "</style>\n",
       "<table id=\"T_a4d59\">\n",
       "  <thead>\n",
       "    <tr>\n",
       "      <th class=\"blank level0\" >&nbsp;</th>\n",
       "      <th id=\"T_a4d59_level0_col0\" class=\"col_heading level0 col0\" >dim</th>\n",
       "      <th id=\"T_a4d59_level0_col1\" class=\"col_heading level0 col1\" >alg_1_time</th>\n",
       "      <th id=\"T_a4d59_level0_col2\" class=\"col_heading level0 col2\" >alg_2_time</th>\n",
       "      <th id=\"T_a4d59_level0_col3\" class=\"col_heading level0 col3\" >alg_3_time</th>\n",
       "      <th id=\"T_a4d59_level0_col4\" class=\"col_heading level0 col4\" >alg_1_pred</th>\n",
       "      <th id=\"T_a4d59_level0_col5\" class=\"col_heading level0 col5\" >alg_2_pred</th>\n",
       "      <th id=\"T_a4d59_level0_col6\" class=\"col_heading level0 col6\" >alg_3_pred</th>\n",
       "    </tr>\n",
       "  </thead>\n",
       "  <tbody>\n",
       "    <tr>\n",
       "      <th id=\"T_a4d59_level0_row0\" class=\"row_heading level0 row0\" >0</th>\n",
       "      <td id=\"T_a4d59_row0_col0\" class=\"data row0 col0\" >10</td>\n",
       "      <td id=\"T_a4d59_row0_col1\" class=\"data row0 col1\" >0.000430</td>\n",
       "      <td id=\"T_a4d59_row0_col2\" class=\"data row0 col2\" >0.000510</td>\n",
       "      <td id=\"T_a4d59_row0_col3\" class=\"data row0 col3\" >0.001210</td>\n",
       "      <td id=\"T_a4d59_row0_col4\" class=\"data row0 col4\" >1000</td>\n",
       "      <td id=\"T_a4d59_row0_col5\" class=\"data row0 col5\" >1000</td>\n",
       "      <td id=\"T_a4d59_row0_col6\" class=\"data row0 col6\" >332</td>\n",
       "    </tr>\n",
       "    <tr>\n",
       "      <th id=\"T_a4d59_level0_row1\" class=\"row_heading level0 row1\" >1</th>\n",
       "      <td id=\"T_a4d59_row1_col0\" class=\"data row1 col0\" >20</td>\n",
       "      <td id=\"T_a4d59_row1_col1\" class=\"data row1 col1\" >0.002980</td>\n",
       "      <td id=\"T_a4d59_row1_col2\" class=\"data row1 col2\" >0.003680</td>\n",
       "      <td id=\"T_a4d59_row1_col3\" class=\"data row1 col3\" >0.004020</td>\n",
       "      <td id=\"T_a4d59_row1_col4\" class=\"data row1 col4\" >8000</td>\n",
       "      <td id=\"T_a4d59_row1_col5\" class=\"data row1 col5\" >8000</td>\n",
       "      <td id=\"T_a4d59_row1_col6\" class=\"data row1 col6\" >1729</td>\n",
       "    </tr>\n",
       "    <tr>\n",
       "      <th id=\"T_a4d59_level0_row2\" class=\"row_heading level0 row2\" >2</th>\n",
       "      <td id=\"T_a4d59_row2_col0\" class=\"data row2 col0\" >30</td>\n",
       "      <td id=\"T_a4d59_row2_col1\" class=\"data row2 col1\" >0.009870</td>\n",
       "      <td id=\"T_a4d59_row2_col2\" class=\"data row2 col2\" >0.012290</td>\n",
       "      <td id=\"T_a4d59_row2_col3\" class=\"data row2 col3\" >0.012880</td>\n",
       "      <td id=\"T_a4d59_row2_col4\" class=\"data row2 col4\" >27000</td>\n",
       "      <td id=\"T_a4d59_row2_col5\" class=\"data row2 col5\" >27000</td>\n",
       "      <td id=\"T_a4d59_row2_col6\" class=\"data row2 col6\" >4416</td>\n",
       "    </tr>\n",
       "    <tr>\n",
       "      <th id=\"T_a4d59_level0_row3\" class=\"row_heading level0 row3\" >3</th>\n",
       "      <td id=\"T_a4d59_row3_col0\" class=\"data row3 col0\" >40</td>\n",
       "      <td id=\"T_a4d59_row3_col1\" class=\"data row3 col1\" >0.022700</td>\n",
       "      <td id=\"T_a4d59_row3_col2\" class=\"data row3 col2\" >0.028400</td>\n",
       "      <td id=\"T_a4d59_row3_col3\" class=\"data row3 col3\" >0.027550</td>\n",
       "      <td id=\"T_a4d59_row3_col4\" class=\"data row3 col4\" >64000</td>\n",
       "      <td id=\"T_a4d59_row3_col5\" class=\"data row3 col5\" >64000</td>\n",
       "      <td id=\"T_a4d59_row3_col6\" class=\"data row3 col6\" >8515</td>\n",
       "    </tr>\n",
       "    <tr>\n",
       "      <th id=\"T_a4d59_level0_row4\" class=\"row_heading level0 row4\" >4</th>\n",
       "      <td id=\"T_a4d59_row4_col0\" class=\"data row4 col0\" >50</td>\n",
       "      <td id=\"T_a4d59_row4_col1\" class=\"data row4 col1\" >0.044870</td>\n",
       "      <td id=\"T_a4d59_row4_col2\" class=\"data row4 col2\" >0.056170</td>\n",
       "      <td id=\"T_a4d59_row4_col3\" class=\"data row4 col3\" >0.051890</td>\n",
       "      <td id=\"T_a4d59_row4_col4\" class=\"data row4 col4\" >125000</td>\n",
       "      <td id=\"T_a4d59_row4_col5\" class=\"data row4 col5\" >125000</td>\n",
       "      <td id=\"T_a4d59_row4_col6\" class=\"data row4 col6\" >14110</td>\n",
       "    </tr>\n",
       "    <tr>\n",
       "      <th id=\"T_a4d59_level0_row5\" class=\"row_heading level0 row5\" >5</th>\n",
       "      <td id=\"T_a4d59_row5_col0\" class=\"data row5 col0\" >60</td>\n",
       "      <td id=\"T_a4d59_row5_col1\" class=\"data row5 col1\" >0.077300</td>\n",
       "      <td id=\"T_a4d59_row5_col2\" class=\"data row5 col2\" >0.097400</td>\n",
       "      <td id=\"T_a4d59_row5_col3\" class=\"data row5 col3\" >0.089770</td>\n",
       "      <td id=\"T_a4d59_row5_col4\" class=\"data row5 col4\" >216000</td>\n",
       "      <td id=\"T_a4d59_row5_col5\" class=\"data row5 col5\" >216000</td>\n",
       "      <td id=\"T_a4d59_row5_col6\" class=\"data row5 col6\" >21265</td>\n",
       "    </tr>\n",
       "    <tr>\n",
       "      <th id=\"T_a4d59_level0_row6\" class=\"row_heading level0 row6\" >6</th>\n",
       "      <td id=\"T_a4d59_row6_col0\" class=\"data row6 col0\" >70</td>\n",
       "      <td id=\"T_a4d59_row6_col1\" class=\"data row6 col1\" >0.120820</td>\n",
       "      <td id=\"T_a4d59_row6_col2\" class=\"data row6 col2\" >0.152050</td>\n",
       "      <td id=\"T_a4d59_row6_col3\" class=\"data row6 col3\" >0.137490</td>\n",
       "      <td id=\"T_a4d59_row6_col4\" class=\"data row6 col4\" >343000</td>\n",
       "      <td id=\"T_a4d59_row6_col5\" class=\"data row6 col5\" >343000</td>\n",
       "      <td id=\"T_a4d59_row6_col6\" class=\"data row6 col6\" >30033</td>\n",
       "    </tr>\n",
       "    <tr>\n",
       "      <th id=\"T_a4d59_level0_row7\" class=\"row_heading level0 row7\" >7</th>\n",
       "      <td id=\"T_a4d59_row7_col0\" class=\"data row7 col0\" >80</td>\n",
       "      <td id=\"T_a4d59_row7_col1\" class=\"data row7 col1\" >0.183990</td>\n",
       "      <td id=\"T_a4d59_row7_col2\" class=\"data row7 col2\" >0.232280</td>\n",
       "      <td id=\"T_a4d59_row7_col3\" class=\"data row7 col3\" >0.203310</td>\n",
       "      <td id=\"T_a4d59_row7_col4\" class=\"data row7 col4\" >512000</td>\n",
       "      <td id=\"T_a4d59_row7_col5\" class=\"data row7 col5\" >512000</td>\n",
       "      <td id=\"T_a4d59_row7_col6\" class=\"data row7 col6\" >40460</td>\n",
       "    </tr>\n",
       "    <tr>\n",
       "      <th id=\"T_a4d59_level0_row8\" class=\"row_heading level0 row8\" >8</th>\n",
       "      <td id=\"T_a4d59_row8_col0\" class=\"data row8 col0\" >90</td>\n",
       "      <td id=\"T_a4d59_row8_col1\" class=\"data row8 col1\" >0.254160</td>\n",
       "      <td id=\"T_a4d59_row8_col2\" class=\"data row8 col2\" >0.321390</td>\n",
       "      <td id=\"T_a4d59_row8_col3\" class=\"data row8 col3\" >0.281190</td>\n",
       "      <td id=\"T_a4d59_row8_col4\" class=\"data row8 col4\" >729000</td>\n",
       "      <td id=\"T_a4d59_row8_col5\" class=\"data row8 col5\" >729000</td>\n",
       "      <td id=\"T_a4d59_row8_col6\" class=\"data row8 col6\" >52584</td>\n",
       "    </tr>\n",
       "    <tr>\n",
       "      <th id=\"T_a4d59_level0_row9\" class=\"row_heading level0 row9\" >9</th>\n",
       "      <td id=\"T_a4d59_row9_col0\" class=\"data row9 col0\" >100</td>\n",
       "      <td id=\"T_a4d59_row9_col1\" class=\"data row9 col1\" >0.353230</td>\n",
       "      <td id=\"T_a4d59_row9_col2\" class=\"data row9 col2\" >0.444650</td>\n",
       "      <td id=\"T_a4d59_row9_col3\" class=\"data row9 col3\" >0.385030</td>\n",
       "      <td id=\"T_a4d59_row9_col4\" class=\"data row9 col4\" >1000000</td>\n",
       "      <td id=\"T_a4d59_row9_col5\" class=\"data row9 col5\" >1000000</td>\n",
       "      <td id=\"T_a4d59_row9_col6\" class=\"data row9 col6\" >66439</td>\n",
       "    </tr>\n",
       "    <tr>\n",
       "      <th id=\"T_a4d59_level0_row10\" class=\"row_heading level0 row10\" >10</th>\n",
       "      <td id=\"T_a4d59_row10_col0\" class=\"data row10 col0\" >110</td>\n",
       "      <td id=\"T_a4d59_row10_col1\" class=\"data row10 col1\" >0.469370</td>\n",
       "      <td id=\"T_a4d59_row10_col2\" class=\"data row10 col2\" >0.601930</td>\n",
       "      <td id=\"T_a4d59_row10_col3\" class=\"data row10 col3\" >0.512430</td>\n",
       "      <td id=\"T_a4d59_row10_col4\" class=\"data row10 col4\" >1331000</td>\n",
       "      <td id=\"T_a4d59_row10_col5\" class=\"data row10 col5\" >1331000</td>\n",
       "      <td id=\"T_a4d59_row10_col6\" class=\"data row10 col6\" >82054</td>\n",
       "    </tr>\n",
       "    <tr>\n",
       "      <th id=\"T_a4d59_level0_row11\" class=\"row_heading level0 row11\" >11</th>\n",
       "      <td id=\"T_a4d59_row11_col0\" class=\"data row11 col0\" >120</td>\n",
       "      <td id=\"T_a4d59_row11_col1\" class=\"data row11 col1\" >0.604110</td>\n",
       "      <td id=\"T_a4d59_row11_col2\" class=\"data row11 col2\" >0.764680</td>\n",
       "      <td id=\"T_a4d59_row11_col3\" class=\"data row11 col3\" >0.664640</td>\n",
       "      <td id=\"T_a4d59_row11_col4\" class=\"data row11 col4\" >1728000</td>\n",
       "      <td id=\"T_a4d59_row11_col5\" class=\"data row11 col5\" >1728000</td>\n",
       "      <td id=\"T_a4d59_row11_col6\" class=\"data row11 col6\" >99459</td>\n",
       "    </tr>\n",
       "    <tr>\n",
       "      <th id=\"T_a4d59_level0_row12\" class=\"row_heading level0 row12\" >12</th>\n",
       "      <td id=\"T_a4d59_row12_col0\" class=\"data row12 col0\" >130</td>\n",
       "      <td id=\"T_a4d59_row12_col1\" class=\"data row12 col1\" >0.771390</td>\n",
       "      <td id=\"T_a4d59_row12_col2\" class=\"data row12 col2\" >0.990110</td>\n",
       "      <td id=\"T_a4d59_row12_col3\" class=\"data row12 col3\" >0.840110</td>\n",
       "      <td id=\"T_a4d59_row12_col4\" class=\"data row12 col4\" >2197000</td>\n",
       "      <td id=\"T_a4d59_row12_col5\" class=\"data row12 col5\" >2197000</td>\n",
       "      <td id=\"T_a4d59_row12_col6\" class=\"data row12 col6\" >118678</td>\n",
       "    </tr>\n",
       "    <tr>\n",
       "      <th id=\"T_a4d59_level0_row13\" class=\"row_heading level0 row13\" >13</th>\n",
       "      <td id=\"T_a4d59_row13_col0\" class=\"data row13 col0\" >140</td>\n",
       "      <td id=\"T_a4d59_row13_col1\" class=\"data row13 col1\" >0.958450</td>\n",
       "      <td id=\"T_a4d59_row13_col2\" class=\"data row13 col2\" >1.210800</td>\n",
       "      <td id=\"T_a4d59_row13_col3\" class=\"data row13 col3\" >1.033410</td>\n",
       "      <td id=\"T_a4d59_row13_col4\" class=\"data row13 col4\" >2744000</td>\n",
       "      <td id=\"T_a4d59_row13_col5\" class=\"data row13 col5\" >2744000</td>\n",
       "      <td id=\"T_a4d59_row13_col6\" class=\"data row13 col6\" >139734</td>\n",
       "    </tr>\n",
       "    <tr>\n",
       "      <th id=\"T_a4d59_level0_row14\" class=\"row_heading level0 row14\" >14</th>\n",
       "      <td id=\"T_a4d59_row14_col0\" class=\"data row14 col0\" >150</td>\n",
       "      <td id=\"T_a4d59_row14_col1\" class=\"data row14 col1\" >1.184830</td>\n",
       "      <td id=\"T_a4d59_row14_col2\" class=\"data row14 col2\" >1.506490</td>\n",
       "      <td id=\"T_a4d59_row14_col3\" class=\"data row14 col3\" >1.273490</td>\n",
       "      <td id=\"T_a4d59_row14_col4\" class=\"data row14 col4\" >3375000</td>\n",
       "      <td id=\"T_a4d59_row14_col5\" class=\"data row14 col5\" >3375000</td>\n",
       "      <td id=\"T_a4d59_row14_col6\" class=\"data row14 col6\" >162648</td>\n",
       "    </tr>\n",
       "    <tr>\n",
       "      <th id=\"T_a4d59_level0_row15\" class=\"row_heading level0 row15\" >15</th>\n",
       "      <td id=\"T_a4d59_row15_col0\" class=\"data row15 col0\" >160</td>\n",
       "      <td id=\"T_a4d59_row15_col1\" class=\"data row15 col1\" >1.427050</td>\n",
       "      <td id=\"T_a4d59_row15_col2\" class=\"data row15 col2\" >1.817190</td>\n",
       "      <td id=\"T_a4d59_row15_col3\" class=\"data row15 col3\" >1.525230</td>\n",
       "      <td id=\"T_a4d59_row15_col4\" class=\"data row15 col4\" >4096000</td>\n",
       "      <td id=\"T_a4d59_row15_col5\" class=\"data row15 col5\" >4096000</td>\n",
       "      <td id=\"T_a4d59_row15_col6\" class=\"data row15 col6\" >187441</td>\n",
       "    </tr>\n",
       "    <tr>\n",
       "      <th id=\"T_a4d59_level0_row16\" class=\"row_heading level0 row16\" >16</th>\n",
       "      <td id=\"T_a4d59_row16_col0\" class=\"data row16 col0\" >170</td>\n",
       "      <td id=\"T_a4d59_row16_col1\" class=\"data row16 col1\" >1.705280</td>\n",
       "      <td id=\"T_a4d59_row16_col2\" class=\"data row16 col2\" >2.165110</td>\n",
       "      <td id=\"T_a4d59_row16_col3\" class=\"data row16 col3\" >1.816990</td>\n",
       "      <td id=\"T_a4d59_row16_col4\" class=\"data row16 col4\" >4913000</td>\n",
       "      <td id=\"T_a4d59_row16_col5\" class=\"data row16 col5\" >4913000</td>\n",
       "      <td id=\"T_a4d59_row16_col6\" class=\"data row16 col6\" >214131</td>\n",
       "    </tr>\n",
       "    <tr>\n",
       "      <th id=\"T_a4d59_level0_row17\" class=\"row_heading level0 row17\" >17</th>\n",
       "      <td id=\"T_a4d59_row17_col0\" class=\"data row17 col0\" >180</td>\n",
       "      <td id=\"T_a4d59_row17_col1\" class=\"data row17 col1\" >2.028640</td>\n",
       "      <td id=\"T_a4d59_row17_col2\" class=\"data row17 col2\" >2.576540</td>\n",
       "      <td id=\"T_a4d59_row17_col3\" class=\"data row17 col3\" >2.141730</td>\n",
       "      <td id=\"T_a4d59_row17_col4\" class=\"data row17 col4\" >5832000</td>\n",
       "      <td id=\"T_a4d59_row17_col5\" class=\"data row17 col5\" >5832000</td>\n",
       "      <td id=\"T_a4d59_row17_col6\" class=\"data row17 col6\" >242736</td>\n",
       "    </tr>\n",
       "    <tr>\n",
       "      <th id=\"T_a4d59_level0_row18\" class=\"row_heading level0 row18\" >18</th>\n",
       "      <td id=\"T_a4d59_row18_col0\" class=\"data row18 col0\" >190</td>\n",
       "      <td id=\"T_a4d59_row18_col1\" class=\"data row18 col1\" >2.405250</td>\n",
       "      <td id=\"T_a4d59_row18_col2\" class=\"data row18 col2\" >3.037760</td>\n",
       "      <td id=\"T_a4d59_row18_col3\" class=\"data row18 col3\" >2.531970</td>\n",
       "      <td id=\"T_a4d59_row18_col4\" class=\"data row18 col4\" >6859000</td>\n",
       "      <td id=\"T_a4d59_row18_col5\" class=\"data row18 col5\" >6859000</td>\n",
       "      <td id=\"T_a4d59_row18_col6\" class=\"data row18 col6\" >273272</td>\n",
       "    </tr>\n",
       "    <tr>\n",
       "      <th id=\"T_a4d59_level0_row19\" class=\"row_heading level0 row19\" >19</th>\n",
       "      <td id=\"T_a4d59_row19_col0\" class=\"data row19 col0\" >200</td>\n",
       "      <td id=\"T_a4d59_row19_col1\" class=\"data row19 col1\" >2.769530</td>\n",
       "      <td id=\"T_a4d59_row19_col2\" class=\"data row19 col2\" >3.540520</td>\n",
       "      <td id=\"T_a4d59_row19_col3\" class=\"data row19 col3\" >2.941830</td>\n",
       "      <td id=\"T_a4d59_row19_col4\" class=\"data row19 col4\" >8000000</td>\n",
       "      <td id=\"T_a4d59_row19_col5\" class=\"data row19 col5\" >8000000</td>\n",
       "      <td id=\"T_a4d59_row19_col6\" class=\"data row19 col6\" >305754</td>\n",
       "    </tr>\n",
       "    <tr>\n",
       "      <th id=\"T_a4d59_level0_row20\" class=\"row_heading level0 row20\" >20</th>\n",
       "      <td id=\"T_a4d59_row20_col0\" class=\"data row20 col0\" >210</td>\n",
       "      <td id=\"T_a4d59_row20_col1\" class=\"data row20 col1\" >3.239410</td>\n",
       "      <td id=\"T_a4d59_row20_col2\" class=\"data row20 col2\" >4.120460</td>\n",
       "      <td id=\"T_a4d59_row20_col3\" class=\"data row20 col3\" >3.417160</td>\n",
       "      <td id=\"T_a4d59_row20_col4\" class=\"data row20 col4\" >9261000</td>\n",
       "      <td id=\"T_a4d59_row20_col5\" class=\"data row20 col5\" >9261000</td>\n",
       "      <td id=\"T_a4d59_row20_col6\" class=\"data row20 col6\" >340198</td>\n",
       "    </tr>\n",
       "    <tr>\n",
       "      <th id=\"T_a4d59_level0_row21\" class=\"row_heading level0 row21\" >21</th>\n",
       "      <td id=\"T_a4d59_row21_col0\" class=\"data row21 col0\" >220</td>\n",
       "      <td id=\"T_a4d59_row21_col1\" class=\"data row21 col1\" >3.675350</td>\n",
       "      <td id=\"T_a4d59_row21_col2\" class=\"data row21 col2\" >4.695060</td>\n",
       "      <td id=\"T_a4d59_row21_col3\" class=\"data row21 col3\" >3.924420</td>\n",
       "      <td id=\"T_a4d59_row21_col4\" class=\"data row21 col4\" >10648000</td>\n",
       "      <td id=\"T_a4d59_row21_col5\" class=\"data row21 col5\" >10648000</td>\n",
       "      <td id=\"T_a4d59_row21_col6\" class=\"data row21 col6\" >376618</td>\n",
       "    </tr>\n",
       "    <tr>\n",
       "      <th id=\"T_a4d59_level0_row22\" class=\"row_heading level0 row22\" >22</th>\n",
       "      <td id=\"T_a4d59_row22_col0\" class=\"data row22 col0\" >230</td>\n",
       "      <td id=\"T_a4d59_row22_col1\" class=\"data row22 col1\" >4.189200</td>\n",
       "      <td id=\"T_a4d59_row22_col2\" class=\"data row22 col2\" >5.355640</td>\n",
       "      <td id=\"T_a4d59_row22_col3\" class=\"data row22 col3\" >4.503960</td>\n",
       "      <td id=\"T_a4d59_row22_col4\" class=\"data row22 col4\" >12167000</td>\n",
       "      <td id=\"T_a4d59_row22_col5\" class=\"data row22 col5\" >12167000</td>\n",
       "      <td id=\"T_a4d59_row22_col6\" class=\"data row22 col6\" >415026</td>\n",
       "    </tr>\n",
       "    <tr>\n",
       "      <th id=\"T_a4d59_level0_row23\" class=\"row_heading level0 row23\" >23</th>\n",
       "      <td id=\"T_a4d59_row23_col0\" class=\"data row23 col0\" >240</td>\n",
       "      <td id=\"T_a4d59_row23_col1\" class=\"data row23 col1\" >4.786700</td>\n",
       "      <td id=\"T_a4d59_row23_col2\" class=\"data row23 col2\" >6.100950</td>\n",
       "      <td id=\"T_a4d59_row23_col3\" class=\"data row23 col3\" >5.100750</td>\n",
       "      <td id=\"T_a4d59_row23_col4\" class=\"data row23 col4\" >13824000</td>\n",
       "      <td id=\"T_a4d59_row23_col5\" class=\"data row23 col5\" >13824000</td>\n",
       "      <td id=\"T_a4d59_row23_col6\" class=\"data row23 col6\" >455437</td>\n",
       "    </tr>\n",
       "    <tr>\n",
       "      <th id=\"T_a4d59_level0_row24\" class=\"row_heading level0 row24\" >24</th>\n",
       "      <td id=\"T_a4d59_row24_col0\" class=\"data row24 col0\" >250</td>\n",
       "      <td id=\"T_a4d59_row24_col1\" class=\"data row24 col1\" >5.404120</td>\n",
       "      <td id=\"T_a4d59_row24_col2\" class=\"data row24 col2\" >6.902220</td>\n",
       "      <td id=\"T_a4d59_row24_col3\" class=\"data row24 col3\" >5.770280</td>\n",
       "      <td id=\"T_a4d59_row24_col4\" class=\"data row24 col4\" >15625000</td>\n",
       "      <td id=\"T_a4d59_row24_col5\" class=\"data row24 col5\" >15625000</td>\n",
       "      <td id=\"T_a4d59_row24_col6\" class=\"data row24 col6\" >497862</td>\n",
       "    </tr>\n",
       "    <tr>\n",
       "      <th id=\"T_a4d59_level0_row25\" class=\"row_heading level0 row25\" >25</th>\n",
       "      <td id=\"T_a4d59_row25_col0\" class=\"data row25 col0\" >260</td>\n",
       "      <td id=\"T_a4d59_row25_col1\" class=\"data row25 col1\" >6.069500</td>\n",
       "      <td id=\"T_a4d59_row25_col2\" class=\"data row25 col2\" >7.695490</td>\n",
       "      <td id=\"T_a4d59_row25_col3\" class=\"data row25 col3\" >6.452900</td>\n",
       "      <td id=\"T_a4d59_row25_col4\" class=\"data row25 col4\" >17576000</td>\n",
       "      <td id=\"T_a4d59_row25_col5\" class=\"data row25 col5\" >17576000</td>\n",
       "      <td id=\"T_a4d59_row25_col6\" class=\"data row25 col6\" >542312</td>\n",
       "    </tr>\n",
       "    <tr>\n",
       "      <th id=\"T_a4d59_level0_row26\" class=\"row_heading level0 row26\" >26</th>\n",
       "      <td id=\"T_a4d59_row26_col0\" class=\"data row26 col0\" >270</td>\n",
       "      <td id=\"T_a4d59_row26_col1\" class=\"data row26 col1\" >6.765930</td>\n",
       "      <td id=\"T_a4d59_row26_col2\" class=\"data row26 col2\" >8.635850</td>\n",
       "      <td id=\"T_a4d59_row26_col3\" class=\"data row26 col3\" >7.220720</td>\n",
       "      <td id=\"T_a4d59_row26_col4\" class=\"data row26 col4\" >19683000</td>\n",
       "      <td id=\"T_a4d59_row26_col5\" class=\"data row26 col5\" >19683000</td>\n",
       "      <td id=\"T_a4d59_row26_col6\" class=\"data row26 col6\" >588800</td>\n",
       "    </tr>\n",
       "    <tr>\n",
       "      <th id=\"T_a4d59_level0_row27\" class=\"row_heading level0 row27\" >27</th>\n",
       "      <td id=\"T_a4d59_row27_col0\" class=\"data row27 col0\" >280</td>\n",
       "      <td id=\"T_a4d59_row27_col1\" class=\"data row27 col1\" >7.602670</td>\n",
       "      <td id=\"T_a4d59_row27_col2\" class=\"data row27 col2\" >9.629970</td>\n",
       "      <td id=\"T_a4d59_row27_col3\" class=\"data row27 col3\" >8.016770</td>\n",
       "      <td id=\"T_a4d59_row27_col4\" class=\"data row27 col4\" >21952000</td>\n",
       "      <td id=\"T_a4d59_row27_col5\" class=\"data row27 col5\" >21952000</td>\n",
       "      <td id=\"T_a4d59_row27_col6\" class=\"data row27 col6\" >637336</td>\n",
       "    </tr>\n",
       "    <tr>\n",
       "      <th id=\"T_a4d59_level0_row28\" class=\"row_heading level0 row28\" >28</th>\n",
       "      <td id=\"T_a4d59_row28_col0\" class=\"data row28 col0\" >290</td>\n",
       "      <td id=\"T_a4d59_row28_col1\" class=\"data row28 col1\" >8.480580</td>\n",
       "      <td id=\"T_a4d59_row28_col2\" class=\"data row28 col2\" >10.713700</td>\n",
       "      <td id=\"T_a4d59_row28_col3\" class=\"data row28 col3\" >8.925900</td>\n",
       "      <td id=\"T_a4d59_row28_col4\" class=\"data row28 col4\" >24389000</td>\n",
       "      <td id=\"T_a4d59_row28_col5\" class=\"data row28 col5\" >24389000</td>\n",
       "      <td id=\"T_a4d59_row28_col6\" class=\"data row28 col6\" >687930</td>\n",
       "    </tr>\n",
       "    <tr>\n",
       "      <th id=\"T_a4d59_level0_row29\" class=\"row_heading level0 row29\" >29</th>\n",
       "      <td id=\"T_a4d59_row29_col0\" class=\"data row29 col0\" >300</td>\n",
       "      <td id=\"T_a4d59_row29_col1\" class=\"data row29 col1\" >9.333840</td>\n",
       "      <td id=\"T_a4d59_row29_col2\" class=\"data row29 col2\" >11.861470</td>\n",
       "      <td id=\"T_a4d59_row29_col3\" class=\"data row29 col3\" >9.948290</td>\n",
       "      <td id=\"T_a4d59_row29_col4\" class=\"data row29 col4\" >27000000</td>\n",
       "      <td id=\"T_a4d59_row29_col5\" class=\"data row29 col5\" >27000000</td>\n",
       "      <td id=\"T_a4d59_row29_col6\" class=\"data row29 col6\" >740594</td>\n",
       "    </tr>\n",
       "  </tbody>\n",
       "</table>\n"
      ],
      "text/plain": [
       "<pandas.io.formats.style.Styler at 0x136c6fc80>"
      ]
     },
     "execution_count": 13,
     "metadata": {},
     "output_type": "execute_result"
    }
   ],
   "source": [
    "df.style"
   ]
  },
  {
   "cell_type": "code",
   "execution_count": 14,
   "id": "cdef5071-d773-4452-8be2-2ab24fb893d1",
   "metadata": {},
   "outputs": [],
   "source": [
    "### Scale Complexities by dividing by the mean\n",
    "df['alg_1_pred'] = df['alg_1_pred'] / df['alg_1_pred'].mean()\n",
    "df['alg_1_time'] = df['alg_1_time'] / df['alg_1_time'].mean()\n",
    "\n",
    "df['alg_2_pred'] = df['alg_2_pred'] / df['alg_2_pred'].mean()\n",
    "df['alg_2_time'] = df['alg_2_time'] / df['alg_2_time'].mean()\n",
    "\n",
    "df['alg_3_pred'] = df['alg_3_pred'] / df['alg_3_pred'].mean()\n",
    "df['alg_3_time'] = df['alg_3_time'] / df['alg_3_time'].mean()"
   ]
  },
  {
   "cell_type": "code",
   "execution_count": 15,
   "id": "bb26d5a5-d6e2-437c-9d6e-78fe71fae9bc",
   "metadata": {},
   "outputs": [
    {
     "data": {
      "text/plain": [
       "<Axes: title={'center': 'Algorithm 1 Predicted vs Actual'}, xlabel='Input Size', ylabel='Runtime'>"
      ]
     },
     "execution_count": 15,
     "metadata": {},
     "output_type": "execute_result"
    },
    {
     "data": {
      "image/png": "[encoded data removed]",
      "text/plain": [
       "<Figure size 640x480 with 1 Axes>"
      ]
     },
     "metadata": {},
     "output_type": "display_data"
    }
   ],
   "source": [
    "# Build plot for Algorithm 1\n",
    "alg_1_plot = df.plot(x='dim', y=['alg_1_pred', 'alg_1_time'], kind='line')\n",
    "alg_1_plot.set_xlabel('Input Size')\n",
    "alg_1_plot.set_ylabel('Runtime')\n",
    "alg_1_plot.set_title('Algorithm 1 Predicted Time vs Actual Time')\n",
    "alg_1_plot"
   ]
  },
  {
   "cell_type": "code",
   "execution_count": 16,
   "id": "4c5e592f-85d6-4a71-8f87-3d5a5619a08f",
   "metadata": {},
   "outputs": [
    {
     "data": {
      "text/plain": [
       "<Axes: title={'center': 'Algorithm 2 Predicted vs Actual'}, xlabel='Input Size', ylabel='Runtime'>"
      ]
     },
     "execution_count": 16,
     "metadata": {},
     "output_type": "execute_result"
    },
    {
     "data": {
      "image/png": "[encoded data removed]",
      "text/plain": [
       "<Figure size 640x480 with 1 Axes>"
      ]
     },
     "metadata": {},
     "output_type": "display_data"
    }
   ],
   "source": [
    "# Build plot for Algorithm 2\n",
    "alg_2_plot = df.plot(x='dim', y=['alg_2_pred', 'alg_2_time'], kind='line')\n",
    "alg_2_plot.set_xlabel('Input Size')\n",
    "alg_2_plot.set_ylabel('Runtime')\n",
    "alg_2_plot.set_title('Algorithm 2 Predicted Time vs Actual Time')\n",
    "alg_2_plot"
   ]
  },
  {
   "cell_type": "code",
   "execution_count": 17,
   "id": "b50480a5-cbe9-420f-995f-0123a1c9b495",
   "metadata": {},
   "outputs": [
    {
     "data": {
      "text/plain": [
       "<Axes: title={'center': 'Algorithm 3 Predicted vs Actual'}, xlabel='Input Size', ylabel='Runtime'>"
      ]
     },
     "execution_count": 17,
     "metadata": {},
     "output_type": "execute_result"
    },
    {
     "data": {
      "image/png": "[encoded data removed]",
      "text/plain": [
       "<Figure size 640x480 with 1 Axes>"
      ]
     },
     "metadata": {},
     "output_type": "display_data"
    }
   ],
   "source": [
    "# Build plot for Algorithm 3\n",
    "alg_3_plot = df.plot(x='dim', y=['alg_3_pred', 'alg_3_time'], kind='line')\n",
    "alg_3_plot.set_xlabel('Input Size')\n",
    "alg_3_plot.set_ylabel('Runtime')\n",
    "alg_3_plot.set_title('Algorithm 3 Predicted Time vs Actual Time')\n",
    "alg_3_plot"
   ]
  },
  {
   "cell_type": "markdown",
   "id": "458f0f6e-7c34-47b6-a00a-8de60259f3df",
   "metadata": {},
   "source": [
    "## Experiment 2"
   ]
  },
  {
   "cell_type": "markdown",
   "id": "a5b709d9-1d06-42db-8d6a-44988dead786",
   "metadata": {},
   "source": [
    "### Generate 9 exponentially growing square matrices of size 2^i × 2^i, where 0 ≤ i ≤ 9"
   ]
  },
  {
   "cell_type": "code",
   "execution_count": 35,
   "id": "ad3ce626-2d52-48b0-9d6c-bb8f46597559",
   "metadata": {},
   "outputs": [],
   "source": [
    "exp_matrix_pairs = []\n",
    "for i in range(0, 10):\n",
    "    shape = np.power(2, i)\n",
    "    matrix_1 = np.random.rand(shape, shape)\n",
    "    matrix_2 = np.random.rand(shape, shape)\n",
    "    exp_matrix_pairs.append([matrix_1, matrix_2])"
   ]
  },
  {
   "cell_type": "code",
   "execution_count": 36,
   "id": "0eb90d11-ad07-44a8-82dc-9e545d8c0123",
   "metadata": {},
   "outputs": [
    {
     "data": {
      "text/html": [
       "<div>\n",
       "<style scoped>\n",
       "    .dataframe tbody tr th:only-of-type {\n",
       "        vertical-align: middle;\n",
       "    }\n",
       "\n",
       "    .dataframe tbody tr th {\n",
       "        vertical-align: top;\n",
       "    }\n",
       "\n",
       "    .dataframe thead th {\n",
       "        text-align: right;\n",
       "    }\n",
       "</style>\n",
       "<table border=\"1\" class=\"dataframe\">\n",
       "  <thead>\n",
       "    <tr style=\"text-align: right;\">\n",
       "      <th></th>\n",
       "      <th>dim</th>\n",
       "      <th>alg_1_time</th>\n",
       "      <th>alg_3_time</th>\n",
       "      <th>alg_4_time</th>\n",
       "      <th>alg_5_time</th>\n",
       "      <th>alg_1_pred</th>\n",
       "      <th>alg_3_pred</th>\n",
       "      <th>alg_4_pred</th>\n",
       "      <th>alg_5_pred</th>\n",
       "    </tr>\n",
       "  </thead>\n",
       "  <tbody>\n",
       "  </tbody>\n",
       "</table>\n",
       "</div>"
      ],
      "text/plain": [
       "Empty DataFrame\n",
       "Columns: [dim, alg_1_time, alg_3_time, alg_4_time, alg_5_time, alg_1_pred, alg_3_pred, alg_4_pred, alg_5_pred]\n",
       "Index: []"
      ]
     },
     "execution_count": 36,
     "metadata": {},
     "output_type": "execute_result"
    }
   ],
   "source": [
    "# Build the column structure for results dataframe\n",
    "exp_df = pd.DataFrame({\n",
    "    'dim': [],\n",
    "    \n",
    "    'alg_1_time': [],\n",
    "    'alg_3_time': [],\n",
    "    'alg_4_time': [],\n",
    "    'alg_5_time': [],\n",
    "    \n",
    "    'alg_1_pred': [],\n",
    "    'alg_3_pred': [],\n",
    "    'alg_4_pred': [],\n",
    "    'alg_5_pred': []\n",
    "})\n",
    "\n",
    "# Show dimension as integer\n",
    "exp_df['dim'] = df['dim'].astype(int) #why not exp df\n",
    "\n",
    "# Show calculated complexities as integers\n",
    "exp_df['alg_1_pred'] = exp_df['alg_1_pred'].astype(int) # why pred and not both or just actual\n",
    "exp_df['alg_3_pred'] = exp_df['alg_3_pred'].astype(int)\n",
    "exp_df['alg_4_pred'] = exp_df['alg_4_pred'].astype(int)\n",
    "exp_df['alg_5_pred'] = exp_df['alg_5_pred'].astype(int)\n",
    "\n",
    "# Confirm column structure in dataframe\n",
    "df.head(1)"
   ]
  },
  {
   "cell_type": "code",
   "execution_count": 37,
   "id": "5521f61e-b08d-4bdc-899f-db52e13f00d6",
   "metadata": {},
   "outputs": [
    {
     "name": "stdout",
     "output_type": "stream",
     "text": [
      "Timing matrix pair 1 (i=0)...\n",
      "Timing matrix pair 2 (i=1)...\n",
      "Timing matrix pair 3 (i=2)...\n",
      "Timing matrix pair 4 (i=3)...\n",
      "Timing matrix pair 5 (i=4)...\n",
      "Timing matrix pair 6 (i=5)...\n",
      "Timing matrix pair 7 (i=6)...\n",
      "Timing matrix pair 8 (i=7)...\n",
      "Timing matrix pair 9 (i=8)...\n",
      "Timing matrix pair 10 (i=9)...\n",
      "Results Ready\n"
     ]
    }
   ],
   "source": [
    "new_rows = []\n",
    "for i, pair in enumerate(exp_matrix_pairs):\n",
    "    print(f'Timing matrix pair {i + 1} (i={i})...')\n",
    "    A, B = pair[0], pair[1], \n",
    "    p, q, r = A.shape[0], A.shape[1], B.shape[1]\n",
    "    C = np.zeros((p, r))\n",
    "    \n",
    "    # 5 runs to take average\n",
    "    alg_1_times, alg_3_times, alg_4_times, alg_5_times = [], [], [], []\n",
    "    for i in range(5):\n",
    "        # Timing Algorithm 1\n",
    "        t1 = t.time()\n",
    "        alg_1_answer = algorithm_1(A, B, C, p, q, r)\n",
    "        t2 = t.time()\n",
    "        alg_1_times.append(t2 - t1)\n",
    "    \n",
    "        # Timing Algorithm 3\n",
    "        t1 = t.time()\n",
    "        alg_3_answer = algorithm_3(A, B, C, p, q, r)\n",
    "        t2 = t.time()\n",
    "        alg_3_times.append(t2 - t1)\n",
    "    \n",
    "        # Timing Algorithm 4\n",
    "        t1 = t.time()\n",
    "        alg_4_answer = algorithm_4(A, B, C)\n",
    "        t2 = t.time()\n",
    "        alg_4_times.append(t2 - t1)\n",
    "\n",
    "        # Timing Algorithm 5\n",
    "        t1 = t.time()\n",
    "        alg_5_answer = algorithm_5(A, B, C)\n",
    "        t2 = t.time()\n",
    "        alg_5_times.append(t2 - t1)\n",
    "        \n",
    "    # Take averages from 5 runs\n",
    "    alg_1_time = np.mean(alg_1_times)\n",
    "    alg_3_time = np.mean(alg_3_times)\n",
    "    alg_4_time = np.mean(alg_4_times)\n",
    "    alg_5_time = np.mean(alg_5_times)\n",
    "    \n",
    "    # Generate a new row for the DataFrame\n",
    "    new_row = {\n",
    "    'dim': p,\n",
    "        \n",
    "    'alg_1_time': round(alg_1_time, 5),\n",
    "    'alg_3_time': round(alg_3_time, 5),\n",
    "    'alg_4_time': round(alg_4_time, 5),\n",
    "    'alg_5_time': round(alg_5_time, 5),\n",
    "        \n",
    "    'alg_1_pred': np.power(p, 3),\n",
    "    'alg_3_pred': round(np.power(p, 2) * np.log2(p)),\n",
    "    'alg_4_pred': round(np.power(p, 2.81)),\n",
    "    'alg_5_pred': np.power(p, 2.81)\n",
    "    }\n",
    "    \n",
    "    new_rows.append(new_row)\n",
    "\n",
    "# Add data to the DataFrame\n",
    "exp_df = pd.concat([exp_df, pd.DataFrame(new_rows)], ignore_index=True)\n",
    "print(\"Results Ready\")"
   ]
  },
  {
   "cell_type": "code",
   "execution_count": 38,
   "id": "5a10d371-9eb1-41e7-abd9-8dce511f3ca8",
   "metadata": {},
   "outputs": [
    {
     "data": {
      "text/html": [
       "<style type=\"text/css\">\n",
       "</style>\n",
       "<table id=\"T_6b3dc\">\n",
       "  <thead>\n",
       "    <tr>\n",
       "      <th class=\"blank level0\" >&nbsp;</th>\n",
       "      <th id=\"T_6b3dc_level0_col0\" class=\"col_heading level0 col0\" >dim</th>\n",
       "      <th id=\"T_6b3dc_level0_col1\" class=\"col_heading level0 col1\" >alg_1_time</th>\n",
       "      <th id=\"T_6b3dc_level0_col2\" class=\"col_heading level0 col2\" >alg_3_time</th>\n",
       "      <th id=\"T_6b3dc_level0_col3\" class=\"col_heading level0 col3\" >alg_4_time</th>\n",
       "      <th id=\"T_6b3dc_level0_col4\" class=\"col_heading level0 col4\" >alg_5_time</th>\n",
       "      <th id=\"T_6b3dc_level0_col5\" class=\"col_heading level0 col5\" >alg_1_pred</th>\n",
       "      <th id=\"T_6b3dc_level0_col6\" class=\"col_heading level0 col6\" >alg_3_pred</th>\n",
       "      <th id=\"T_6b3dc_level0_col7\" class=\"col_heading level0 col7\" >alg_4_pred</th>\n",
       "      <th id=\"T_6b3dc_level0_col8\" class=\"col_heading level0 col8\" >alg_5_pred</th>\n",
       "    </tr>\n",
       "  </thead>\n",
       "  <tbody>\n",
       "    <tr>\n",
       "      <th id=\"T_6b3dc_level0_row0\" class=\"row_heading level0 row0\" >0</th>\n",
       "      <td id=\"T_6b3dc_row0_col0\" class=\"data row0 col0\" >1</td>\n",
       "      <td id=\"T_6b3dc_row0_col1\" class=\"data row0 col1\" >0.000010</td>\n",
       "      <td id=\"T_6b3dc_row0_col2\" class=\"data row0 col2\" >0.000010</td>\n",
       "      <td id=\"T_6b3dc_row0_col3\" class=\"data row0 col3\" >0.000020</td>\n",
       "      <td id=\"T_6b3dc_row0_col4\" class=\"data row0 col4\" >0.000010</td>\n",
       "      <td id=\"T_6b3dc_row0_col5\" class=\"data row0 col5\" >1</td>\n",
       "      <td id=\"T_6b3dc_row0_col6\" class=\"data row0 col6\" >0</td>\n",
       "      <td id=\"T_6b3dc_row0_col7\" class=\"data row0 col7\" >1</td>\n",
       "      <td id=\"T_6b3dc_row0_col8\" class=\"data row0 col8\" >1</td>\n",
       "    </tr>\n",
       "    <tr>\n",
       "      <th id=\"T_6b3dc_level0_row1\" class=\"row_heading level0 row1\" >1</th>\n",
       "      <td id=\"T_6b3dc_row1_col0\" class=\"data row1 col0\" >2</td>\n",
       "      <td id=\"T_6b3dc_row1_col1\" class=\"data row1 col1\" >0.000010</td>\n",
       "      <td id=\"T_6b3dc_row1_col2\" class=\"data row1 col2\" >0.000040</td>\n",
       "      <td id=\"T_6b3dc_row1_col3\" class=\"data row1 col3\" >0.000140</td>\n",
       "      <td id=\"T_6b3dc_row1_col4\" class=\"data row1 col4\" >0.000020</td>\n",
       "      <td id=\"T_6b3dc_row1_col5\" class=\"data row1 col5\" >8</td>\n",
       "      <td id=\"T_6b3dc_row1_col6\" class=\"data row1 col6\" >4</td>\n",
       "      <td id=\"T_6b3dc_row1_col7\" class=\"data row1 col7\" >7</td>\n",
       "      <td id=\"T_6b3dc_row1_col8\" class=\"data row1 col8\" >8</td>\n",
       "    </tr>\n",
       "    <tr>\n",
       "      <th id=\"T_6b3dc_level0_row2\" class=\"row_heading level0 row2\" >2</th>\n",
       "      <td id=\"T_6b3dc_row2_col0\" class=\"data row2 col0\" >4</td>\n",
       "      <td id=\"T_6b3dc_row2_col1\" class=\"data row2 col1\" >0.000050</td>\n",
       "      <td id=\"T_6b3dc_row2_col2\" class=\"data row2 col2\" >0.000210</td>\n",
       "      <td id=\"T_6b3dc_row2_col3\" class=\"data row2 col3\" >0.000620</td>\n",
       "      <td id=\"T_6b3dc_row2_col4\" class=\"data row2 col4\" >0.000140</td>\n",
       "      <td id=\"T_6b3dc_row2_col5\" class=\"data row2 col5\" >64</td>\n",
       "      <td id=\"T_6b3dc_row2_col6\" class=\"data row2 col6\" >32</td>\n",
       "      <td id=\"T_6b3dc_row2_col7\" class=\"data row2 col7\" >49</td>\n",
       "      <td id=\"T_6b3dc_row2_col8\" class=\"data row2 col8\" >64</td>\n",
       "    </tr>\n",
       "    <tr>\n",
       "      <th id=\"T_6b3dc_level0_row3\" class=\"row_heading level0 row3\" >3</th>\n",
       "      <td id=\"T_6b3dc_row3_col0\" class=\"data row3 col0\" >8</td>\n",
       "      <td id=\"T_6b3dc_row3_col1\" class=\"data row3 col1\" >0.000260</td>\n",
       "      <td id=\"T_6b3dc_row3_col2\" class=\"data row3 col2\" >0.000710</td>\n",
       "      <td id=\"T_6b3dc_row3_col3\" class=\"data row3 col3\" >0.002690</td>\n",
       "      <td id=\"T_6b3dc_row3_col4\" class=\"data row3 col4\" >0.000730</td>\n",
       "      <td id=\"T_6b3dc_row3_col5\" class=\"data row3 col5\" >512</td>\n",
       "      <td id=\"T_6b3dc_row3_col6\" class=\"data row3 col6\" >192</td>\n",
       "      <td id=\"T_6b3dc_row3_col7\" class=\"data row3 col7\" >345</td>\n",
       "      <td id=\"T_6b3dc_row3_col8\" class=\"data row3 col8\" >512</td>\n",
       "    </tr>\n",
       "    <tr>\n",
       "      <th id=\"T_6b3dc_level0_row4\" class=\"row_heading level0 row4\" >4</th>\n",
       "      <td id=\"T_6b3dc_row4_col0\" class=\"data row4 col0\" >16</td>\n",
       "      <td id=\"T_6b3dc_row4_col1\" class=\"data row4 col1\" >0.001600</td>\n",
       "      <td id=\"T_6b3dc_row4_col2\" class=\"data row4 col2\" >0.002430</td>\n",
       "      <td id=\"T_6b3dc_row4_col3\" class=\"data row4 col3\" >0.013440</td>\n",
       "      <td id=\"T_6b3dc_row4_col4\" class=\"data row4 col4\" >0.003190</td>\n",
       "      <td id=\"T_6b3dc_row4_col5\" class=\"data row4 col5\" >4096</td>\n",
       "      <td id=\"T_6b3dc_row4_col6\" class=\"data row4 col6\" >1024</td>\n",
       "      <td id=\"T_6b3dc_row4_col7\" class=\"data row4 col7\" >2419</td>\n",
       "      <td id=\"T_6b3dc_row4_col8\" class=\"data row4 col8\" >4096</td>\n",
       "    </tr>\n",
       "    <tr>\n",
       "      <th id=\"T_6b3dc_level0_row5\" class=\"row_heading level0 row5\" >5</th>\n",
       "      <td id=\"T_6b3dc_row5_col0\" class=\"data row5 col0\" >32</td>\n",
       "      <td id=\"T_6b3dc_row5_col1\" class=\"data row5 col1\" >0.012300</td>\n",
       "      <td id=\"T_6b3dc_row5_col2\" class=\"data row5 col2\" >0.015650</td>\n",
       "      <td id=\"T_6b3dc_row5_col3\" class=\"data row5 col3\" >0.092400</td>\n",
       "      <td id=\"T_6b3dc_row5_col4\" class=\"data row5 col4\" >0.022340</td>\n",
       "      <td id=\"T_6b3dc_row5_col5\" class=\"data row5 col5\" >32768</td>\n",
       "      <td id=\"T_6b3dc_row5_col6\" class=\"data row5 col6\" >5120</td>\n",
       "      <td id=\"T_6b3dc_row5_col7\" class=\"data row5 col7\" >16962</td>\n",
       "      <td id=\"T_6b3dc_row5_col8\" class=\"data row5 col8\" >32768</td>\n",
       "    </tr>\n",
       "    <tr>\n",
       "      <th id=\"T_6b3dc_level0_row6\" class=\"row_heading level0 row6\" >6</th>\n",
       "      <td id=\"T_6b3dc_row6_col0\" class=\"data row6 col0\" >64</td>\n",
       "      <td id=\"T_6b3dc_row6_col1\" class=\"data row6 col1\" >0.096610</td>\n",
       "      <td id=\"T_6b3dc_row6_col2\" class=\"data row6 col2\" >0.107790</td>\n",
       "      <td id=\"T_6b3dc_row6_col3\" class=\"data row6 col3\" >0.647280</td>\n",
       "      <td id=\"T_6b3dc_row6_col4\" class=\"data row6 col4\" >0.153880</td>\n",
       "      <td id=\"T_6b3dc_row6_col5\" class=\"data row6 col5\" >262144</td>\n",
       "      <td id=\"T_6b3dc_row6_col6\" class=\"data row6 col6\" >24576</td>\n",
       "      <td id=\"T_6b3dc_row6_col7\" class=\"data row6 col7\" >118950</td>\n",
       "      <td id=\"T_6b3dc_row6_col8\" class=\"data row6 col8\" >262144</td>\n",
       "    </tr>\n",
       "    <tr>\n",
       "      <th id=\"T_6b3dc_level0_row7\" class=\"row_heading level0 row7\" >7</th>\n",
       "      <td id=\"T_6b3dc_row7_col0\" class=\"data row7 col0\" >128</td>\n",
       "      <td id=\"T_6b3dc_row7_col1\" class=\"data row7 col1\" >0.755090</td>\n",
       "      <td id=\"T_6b3dc_row7_col2\" class=\"data row7 col2\" >0.809100</td>\n",
       "      <td id=\"T_6b3dc_row7_col3\" class=\"data row7 col3\" >4.499360</td>\n",
       "      <td id=\"T_6b3dc_row7_col4\" class=\"data row7 col4\" >1.081970</td>\n",
       "      <td id=\"T_6b3dc_row7_col5\" class=\"data row7 col5\" >2097152</td>\n",
       "      <td id=\"T_6b3dc_row7_col6\" class=\"data row7 col6\" >114688</td>\n",
       "      <td id=\"T_6b3dc_row7_col7\" class=\"data row7 col7\" >834180</td>\n",
       "      <td id=\"T_6b3dc_row7_col8\" class=\"data row7 col8\" >2097152</td>\n",
       "    </tr>\n",
       "    <tr>\n",
       "      <th id=\"T_6b3dc_level0_row8\" class=\"row_heading level0 row8\" >8</th>\n",
       "      <td id=\"T_6b3dc_row8_col0\" class=\"data row8 col0\" >256</td>\n",
       "      <td id=\"T_6b3dc_row8_col1\" class=\"data row8 col1\" >5.929490</td>\n",
       "      <td id=\"T_6b3dc_row8_col2\" class=\"data row8 col2\" >6.362620</td>\n",
       "      <td id=\"T_6b3dc_row8_col3\" class=\"data row8 col3\" >31.378900</td>\n",
       "      <td id=\"T_6b3dc_row8_col4\" class=\"data row8 col4\" >7.477530</td>\n",
       "      <td id=\"T_6b3dc_row8_col5\" class=\"data row8 col5\" >16777216</td>\n",
       "      <td id=\"T_6b3dc_row8_col6\" class=\"data row8 col6\" >524288</td>\n",
       "      <td id=\"T_6b3dc_row8_col7\" class=\"data row8 col7\" >5849979</td>\n",
       "      <td id=\"T_6b3dc_row8_col8\" class=\"data row8 col8\" >16777216</td>\n",
       "    </tr>\n",
       "    <tr>\n",
       "      <th id=\"T_6b3dc_level0_row9\" class=\"row_heading level0 row9\" >9</th>\n",
       "      <td id=\"T_6b3dc_row9_col0\" class=\"data row9 col0\" >512</td>\n",
       "      <td id=\"T_6b3dc_row9_col1\" class=\"data row9 col1\" >52.981660</td>\n",
       "      <td id=\"T_6b3dc_row9_col2\" class=\"data row9 col2\" >56.399780</td>\n",
       "      <td id=\"T_6b3dc_row9_col3\" class=\"data row9 col3\" >240.054420</td>\n",
       "      <td id=\"T_6b3dc_row9_col4\" class=\"data row9 col4\" >57.118390</td>\n",
       "      <td id=\"T_6b3dc_row9_col5\" class=\"data row9 col5\" >134217728</td>\n",
       "      <td id=\"T_6b3dc_row9_col6\" class=\"data row9 col6\" >2359296</td>\n",
       "      <td id=\"T_6b3dc_row9_col7\" class=\"data row9 col7\" >41025000</td>\n",
       "      <td id=\"T_6b3dc_row9_col8\" class=\"data row9 col8\" >134217728</td>\n",
       "    </tr>\n",
       "  </tbody>\n",
       "</table>\n"
      ],
      "text/plain": [
       "<pandas.io.formats.style.Styler at 0x12f0101a0>"
      ]
     },
     "execution_count": 38,
     "metadata": {},
     "output_type": "execute_result"
    }
   ],
   "source": [
    "exp_df.style"
   ]
  },
  {
   "cell_type": "code",
   "execution_count": 39,
   "id": "2baa5200-cc4e-44fd-84b2-acce5974de58",
   "metadata": {},
   "outputs": [],
   "source": [
    "### Scale Complexities by dividing by the mean\n",
    "exp_df['alg_1_pred'] = exp_df['alg_1_pred'] / exp_df['alg_1_pred'].mean()\n",
    "exp_df['alg_1_time'] = exp_df['alg_1_time'] / exp_df['alg_1_time'].mean()\n",
    "\n",
    "exp_df['alg_3_pred'] = exp_df['alg_3_pred'] / exp_df['alg_3_pred'].mean()\n",
    "exp_df['alg_3_time'] = exp_df['alg_3_time'] / exp_df['alg_3_time'].mean()\n",
    "\n",
    "exp_df['alg_4_pred'] = exp_df['alg_4_pred'] / exp_df['alg_4_pred'].mean()\n",
    "exp_df['alg_4_time'] = exp_df['alg_4_time'] / exp_df['alg_4_time'].mean()\n",
    "\n",
    "exp_df['alg_5_pred'] = exp_df['alg_5_pred'] / exp_df['alg_5_pred'].mean()\n",
    "exp_df['alg_5_time'] = exp_df['alg_5_time'] / exp_df['alg_5_time'].mean()"
   ]
  },
  {
   "cell_type": "code",
   "execution_count": 40,
   "id": "5916ed0f-4407-49ce-95f8-30a21bd693bc",
   "metadata": {},
   "outputs": [
    {
     "data": {
      "text/plain": [
       "<Axes: title={'center': 'Algorithm 1 Predicted Time vs Actual Time'}, xlabel='Input Size', ylabel='Runtime'>"
      ]
     },
     "execution_count": 40,
     "metadata": {},
     "output_type": "execute_result"
    },
    {
     "data": {
      "image/png": "[encoded data removed]",
      "text/plain": [
       "<Figure size 640x480 with 1 Axes>"
      ]
     },
     "metadata": {},
     "output_type": "display_data"
    }
   ],
   "source": [
    "# Build plot for Algorithm 1\n",
    "alg_1_plot_exp = exp_df.plot(x='dim', y=['alg_1_pred', 'alg_1_time'], kind='line')\n",
    "alg_1_plot_exp.set_xlabel('Input Size')\n",
    "alg_1_plot_exp.set_ylabel('Runtime')\n",
    "alg_1_plot_exp.set_title('Algorithm 1 Predicted Time vs Actual Time')\n",
    "alg_1_plot_exp"
   ]
  },
  {
   "cell_type": "code",
   "execution_count": 42,
   "id": "84690e9e-1d7e-47a6-8055-fef56727fd2b",
   "metadata": {},
   "outputs": [
    {
     "data": {
      "text/plain": [
       "<Axes: title={'center': 'Algorithm 3 Predicted Time vs Actual Time'}, xlabel='Input Size', ylabel='Runtime'>"
      ]
     },
     "execution_count": 42,
     "metadata": {},
     "output_type": "execute_result"
    },
    {
     "data": {
      "image/png": "[encoded data removed]",
      "text/plain": [
       "<Figure size 640x480 with 1 Axes>"
      ]
     },
     "metadata": {},
     "output_type": "display_data"
    }
   ],
   "source": [
    "# Build plot for Algorithm 3\n",
    "alg_3_plot_exp = exp_df.plot(x='dim', y=['alg_3_pred', 'alg_3_time'], kind='line')\n",
    "alg_3_plot_exp.set_xlabel('Input Size')\n",
    "alg_3_plot_exp.set_ylabel('Runtime')\n",
    "alg_3_plot_exp.set_title('Algorithm 3 Predicted Time vs Actual Time')\n",
    "alg_3_plot_exp"
   ]
  },
  {
   "cell_type": "code",
   "execution_count": 41,
   "id": "dde83e17-9731-4b5c-86b9-a4250b9d32e7",
   "metadata": {},
   "outputs": [
    {
     "data": {
      "text/plain": [
       "<Axes: title={'center': 'Algorithm 4 Predicted Time vs Actual Time'}, xlabel='Input Size', ylabel='Runtime'>"
      ]
     },
     "execution_count": 41,
     "metadata": {},
     "output_type": "execute_result"
    },
    {
     "data": {
      "image/png": "[encoded data removed]",
      "text/plain": [
       "<Figure size 640x480 with 1 Axes>"
      ]
     },
     "metadata": {},
     "output_type": "display_data"
    }
   ],
   "source": [
    "# Build plot for Algorithm 4\n",
    "alg_4_plot_exp = exp_df.plot(x='dim', y=['alg_4_pred', 'alg_4_time'], kind='line')\n",
    "alg_4_plot_exp.set_xlabel('Input Size')\n",
    "alg_4_plot_exp.set_ylabel('Runtime')\n",
    "alg_4_plot_exp.set_title('Algorithm 4 Predicted Time vs Actual Time')\n",
    "alg_4_plot_exp"
   ]
  },
  {
   "cell_type": "code",
   "execution_count": 44,
   "id": "fc4471d0-fc1d-4d63-85db-d75ace5e00ae",
   "metadata": {},
   "outputs": [
    {
     "data": {
      "text/plain": [
       "<Axes: title={'center': 'Algorithm 5 Predicted Time vs Actual Time'}, xlabel='Input Size', ylabel='Runtime'>"
      ]
     },
     "execution_count": 44,
     "metadata": {},
     "output_type": "execute_result"
    },
    {
     "data": {
      "image/png": "[encoded data removed]",
      "text/plain": [
       "<Figure size 640x480 with 1 Axes>"
      ]
     },
     "metadata": {},
     "output_type": "display_data"
    }
   ],
   "source": [
    "# Build plot for Algorithm 5\n",
    "alg_5_plot_exp = exp_df.plot(x='dim', y=['alg_5_pred', 'alg_5_time'], kind='line')\n",
    "alg_5_plot_exp.set_xlabel('Input Size')\n",
    "alg_5_plot_exp.set_ylabel('Runtime')\n",
    "alg_5_plot_exp.set_title('Algorithm 5 Predicted Time vs Actual Time')\n",
    "alg_5_plot_exp"
   ]
  },
  {
   "cell_type": "markdown",
   "id": "f63494a1-113b-41ca-97c6-33b0d41856cf",
   "metadata": {},
   "source": [
    "# Matrix Chain Multiplication Problem"
   ]
  },
  {
   "cell_type": "markdown",
   "id": "1dba77d4-267f-4110-998f-02eb145c1684",
   "metadata": {},
   "source": [
    "### Maxtrix chain order algorithm - takes inputs p as list of matrices and n for the number of matrices and outputs the numpy arrays of the minimum costs as m and split points as s"
   ]
  },
  {
   "cell_type": "code",
   "execution_count": null,
   "id": "3fb7b1dc-6094-4f64-abbe-6ec848aeaea6",
   "metadata": {},
   "outputs": [],
   "source": [
    "def matrix_chain_order(p, n):\n",
    "    m = np.zeros((n, n))\n",
    "    s = np.zeros((n, n)).astype(int)\n",
    "    max = np.inf #infinity\n",
    "\n",
    "    for l in range(2, n):\n",
    "        for i in range(0, n - l + 1):\n",
    "            j = i + l - 1\n",
    "            m[i, j] = max\n",
    "            \n",
    "            for k in range(i, j):\n",
    "                q = m[i, k] + m[k + 1, j] + p[i-1] * p[k] * p[j]\n",
    "                \n",
    "                if q < m[i, j]:\n",
    "                    m[i, j] = q\n",
    "                    s[i, j] = k\n",
    "\n",
    "    return m, s"
   ]
  },
  {
   "cell_type": "markdown",
   "id": "a2250775-bcaf-4f5e-866e-41ef35d033b6",
   "metadata": {},
   "source": [
    "### Chain matrix multiplication algorithm - taking inputs list of matrices A, an array of split points s, and the start and end indices i,j, recursively multiplies matrices in the optimal order and outputs the product matrix."
   ]
  },
  {
   "cell_type": "code",
   "execution_count": 223,
   "id": "425fc113-8b1e-438d-acb9-b9e942ce258d",
   "metadata": {},
   "outputs": [],
   "source": [
    "def chain_matrix_multiplication_algorithm(A, s, i, j):\n",
    "    if i == j:\n",
    "        return A[i]\n",
    "        \n",
    "    else:\n",
    "        a = chain_matrix_multiplication_algorithm(A, s, i, s[i, j])\n",
    "        b = chain_matrix_multiplication_algorithm(A, s, s[i, j] + 1, j)\n",
    "        p, q, r = a.shape[0], a.shape[1], b.shape[1]\n",
    "        c = np.zeros((p, r))\n",
    "        \n",
    "    return algorithm_1(a, b, c, p, q, r)"
   ]
  },
  {
   "cell_type": "markdown",
   "id": "710c5e38-8ab2-407c-9a49-b5d7fa843e88",
   "metadata": {},
   "source": [
    "### Sequential matrix multiplication algorithm - inputs a matrix chain and applies matrix mulitplcation to output a product matrix"
   ]
  },
  {
   "cell_type": "code",
   "execution_count": 224,
   "id": "494990ca-d302-4a5b-95a8-a1dc30449a19",
   "metadata": {},
   "outputs": [],
   "source": [
    "def sequential_matrix_multiplication(matrix_chain):\n",
    "    # Get the first matrix in the chain\n",
    "    product = matrix_chain[0]\n",
    "\n",
    "    i = 1\n",
    "    while i <= len(matrix_chain) - 1:\n",
    "        # Get the next matrix in the chain & values p, q, & r\n",
    "        next = matrix_chain[i]\n",
    "        p, q, r = product.shape[0], product.shape[1], next.shape[1]\n",
    "        # Multiply the running product and the next matrix\n",
    "        # using Algorithm 1 and store the result for the next iteration\n",
    "        product = algorithm_1(product, next, np.zeros((p, r)), p, q, r)\n",
    "        \n",
    "        i += 1\n",
    "        \n",
    "    return product\n",
    "        "
   ]
  },
  {
   "cell_type": "markdown",
   "id": "d511d4e8-ba34-4b7b-b1d3-78b396fd4236",
   "metadata": {
    "jp-MarkdownHeadingCollapsed": true
   },
   "source": [
    "### Generate 19 matrix chains"
   ]
  },
  {
   "cell_type": "code",
   "execution_count": 211,
   "id": "c80c6922-4f4b-4d38-9f05-64b7f09e5751",
   "metadata": {},
   "outputs": [],
   "source": [
    "# Makes 19 matrix chains of length 10 each with dimensions between (10, j * 10) & random values between 0 and 1\n",
    "matrix_chains = []\n",
    "P = []  # store dimensions for matrix chain order calculation\n",
    "for j in range(2, 21):\n",
    "    A = [] \n",
    "    P_j = []\n",
    "    prev_p = np.random.randint(10, j * 10)\n",
    "    for i in range(1, 11):\n",
    "        p = np.random.randint(10, j * 10)\n",
    "        A.append(np.random.rand(prev_p, p))\n",
    "        P_j.append(prev_p)\n",
    "        prev_p = p\n",
    "        \n",
    "    matrix_chains.append(A)\n",
    "    P.append(P_j)"
   ]
  },
  {
   "cell_type": "markdown",
   "id": "553a28d1-3171-40e9-aee8-762cd1352cdb",
   "metadata": {},
   "source": [
    "### Build empty Pandas DataFrame"
   ]
  },
  {
   "cell_type": "code",
   "execution_count": 212,
   "id": "7f1f0e5a-f590-455d-80dc-32cd6b24611a",
   "metadata": {},
   "outputs": [
    {
     "data": {
      "text/html": [
       "<div>\n",
       "<style scoped>\n",
       "    .dataframe tbody tr th:only-of-type {\n",
       "        vertical-align: middle;\n",
       "    }\n",
       "\n",
       "    .dataframe tbody tr th {\n",
       "        vertical-align: top;\n",
       "    }\n",
       "\n",
       "    .dataframe thead th {\n",
       "        text-align: right;\n",
       "    }\n",
       "</style>\n",
       "<table border=\"1\" class=\"dataframe\">\n",
       "  <thead>\n",
       "    <tr style=\"text-align: right;\">\n",
       "      <th></th>\n",
       "      <th>Matrix Chain ID</th>\n",
       "      <th>Matrix Size Upper Bound</th>\n",
       "      <th>Sequential Time</th>\n",
       "      <th>Optimal Time</th>\n",
       "    </tr>\n",
       "  </thead>\n",
       "  <tbody>\n",
       "  </tbody>\n",
       "</table>\n",
       "</div>"
      ],
      "text/plain": [
       "Empty DataFrame\n",
       "Columns: [Matrix Chain ID, Matrix Size Upper Bound, Sequential Time, Optimal Time]\n",
       "Index: []"
      ]
     },
     "execution_count": 212,
     "metadata": {},
     "output_type": "execute_result"
    }
   ],
   "source": [
    "# Build the column structure for results dataframe\n",
    "chain_df = pd.DataFrame({\n",
    "    'Matrix Chain ID': [],\n",
    "    'Matrix Size Upper Bound': [],\n",
    "    'Sequential Time': [],\n",
    "    'Optimal Time': []    \n",
    "})\n",
    "\n",
    "# Show values as integers \n",
    "chain_df['Matrix Chain ID'] = chain_df['Matrix Chain ID'].astype(int)  \n",
    "chain_df['Matrix Size Upper Bound'] = chain_df['Matrix Size Upper Bound'].astype(int)\n",
    "\n",
    "# Confirm column structure in dataframe\n",
    "chain_df.head(1)"
   ]
  },
  {
   "cell_type": "markdown",
   "id": "1cc9a86e-fe66-480f-965f-304bba71abbe",
   "metadata": {},
   "source": [
    "### Time execution and add data Pandas DataFrame"
   ]
  },
  {
   "cell_type": "code",
   "execution_count": 213,
   "id": "e1f9095f-5313-47a2-9e53-7a47a646f4d4",
   "metadata": {},
   "outputs": [
    {
     "name": "stdout",
     "output_type": "stream",
     "text": [
      "Timing Chain 1...\n",
      "Timing Chain 2...\n",
      "Timing Chain 3...\n",
      "Timing Chain 4...\n",
      "Timing Chain 5...\n",
      "Timing Chain 6...\n",
      "Timing Chain 7...\n",
      "Timing Chain 8...\n",
      "Timing Chain 9...\n",
      "Timing Chain 10...\n",
      "Timing Chain 11...\n",
      "Timing Chain 12...\n",
      "Timing Chain 13...\n",
      "Timing Chain 14...\n",
      "Timing Chain 15...\n",
      "Timing Chain 16...\n",
      "Timing Chain 17...\n",
      "Timing Chain 18...\n",
      "Timing Chain 19...\n",
      "Results Ready\n"
     ]
    }
   ],
   "source": [
    "new_rows = []\n",
    "\n",
    "for j, matrix_chain in enumerate(matrix_chains):\n",
    "    print(f'Timing Chain {j + 1}...')\n",
    "    P_j = P[j]\n",
    "    \n",
    "    sequential_times, optimal_times = [], []\n",
    "    m, s = matrix_chain_order(P_j, len(P_j))\n",
    "    # 5 runs to take average\n",
    "    for i in range(2):\n",
    "        \n",
    "        # Timing sequential chain matrix multiplication\n",
    "        t1 = t.time()\n",
    "        sequential_answer = sequential_matrix_multiplication(matrix_chain) \n",
    "        t2 = t.time()\n",
    "        sequential_times.append(t2 - t1)\n",
    "\n",
    "        # Timing optimal chain matrix multiplication\n",
    "        t1 = t.time()\n",
    "        optimal_answer = chain_matrix_multiplication_algorithm(matrix_chain, s, 0, 9)\n",
    "        t2 = t.time()\n",
    "        optimal_times.append(t2 - t1)\n",
    "        \n",
    "    # Take averages from 5 runs\n",
    "    sequential_time = np.mean(sequential_times)\n",
    "    optimal_time = np.mean(optimal_times)\n",
    "    \n",
    "    \n",
    "    # Generate a new row for the DataFrame\n",
    "    new_row = {\n",
    "        'Matrix Chain ID': j,\n",
    "        'Matrix Size Upper Bound': j * 10,\n",
    "        'Sequential Time': sequential_time,\n",
    "        'Optimal Time': optimal_time\n",
    "    }\n",
    "    \n",
    "    new_rows.append(new_row)\n",
    "\n",
    "# Add data to the DataFrame\n",
    "chain_df = pd.concat([chain_df, pd.DataFrame(new_rows)], ignore_index=True)\n",
    "print(\"Results Ready\")"
   ]
  },
  {
   "cell_type": "code",
   "execution_count": 214,
   "id": "9451e2b8-8a68-4c62-a9ac-e19332b5185a",
   "metadata": {},
   "outputs": [
    {
     "data": {
      "text/html": [
       "<style type=\"text/css\">\n",
       "</style>\n",
       "<table id=\"T_1a88a\">\n",
       "  <thead>\n",
       "    <tr>\n",
       "      <th class=\"blank level0\" >&nbsp;</th>\n",
       "      <th id=\"T_1a88a_level0_col0\" class=\"col_heading level0 col0\" >Matrix Chain ID</th>\n",
       "      <th id=\"T_1a88a_level0_col1\" class=\"col_heading level0 col1\" >Matrix Size Upper Bound</th>\n",
       "      <th id=\"T_1a88a_level0_col2\" class=\"col_heading level0 col2\" >Sequential Time</th>\n",
       "      <th id=\"T_1a88a_level0_col3\" class=\"col_heading level0 col3\" >Optimal Time</th>\n",
       "    </tr>\n",
       "  </thead>\n",
       "  <tbody>\n",
       "    <tr>\n",
       "      <th id=\"T_1a88a_level0_row0\" class=\"row_heading level0 row0\" >0</th>\n",
       "      <td id=\"T_1a88a_row0_col0\" class=\"data row0 col0\" >0</td>\n",
       "      <td id=\"T_1a88a_row0_col1\" class=\"data row0 col1\" >0</td>\n",
       "      <td id=\"T_1a88a_row0_col2\" class=\"data row0 col2\" >0.015419</td>\n",
       "      <td id=\"T_1a88a_row0_col3\" class=\"data row0 col3\" >0.014032</td>\n",
       "    </tr>\n",
       "    <tr>\n",
       "      <th id=\"T_1a88a_level0_row1\" class=\"row_heading level0 row1\" >1</th>\n",
       "      <td id=\"T_1a88a_row1_col0\" class=\"data row1 col0\" >1</td>\n",
       "      <td id=\"T_1a88a_row1_col1\" class=\"data row1 col1\" >10</td>\n",
       "      <td id=\"T_1a88a_row1_col2\" class=\"data row1 col2\" >0.033246</td>\n",
       "      <td id=\"T_1a88a_row1_col3\" class=\"data row1 col3\" >0.033865</td>\n",
       "    </tr>\n",
       "    <tr>\n",
       "      <th id=\"T_1a88a_level0_row2\" class=\"row_heading level0 row2\" >2</th>\n",
       "      <td id=\"T_1a88a_row2_col0\" class=\"data row2 col0\" >2</td>\n",
       "      <td id=\"T_1a88a_row2_col1\" class=\"data row2 col1\" >20</td>\n",
       "      <td id=\"T_1a88a_row2_col2\" class=\"data row2 col2\" >0.015540</td>\n",
       "      <td id=\"T_1a88a_row2_col3\" class=\"data row2 col3\" >0.022742</td>\n",
       "    </tr>\n",
       "    <tr>\n",
       "      <th id=\"T_1a88a_level0_row3\" class=\"row_heading level0 row3\" >3</th>\n",
       "      <td id=\"T_1a88a_row3_col0\" class=\"data row3 col0\" >3</td>\n",
       "      <td id=\"T_1a88a_row3_col1\" class=\"data row3 col1\" >30</td>\n",
       "      <td id=\"T_1a88a_row3_col2\" class=\"data row3 col2\" >0.081017</td>\n",
       "      <td id=\"T_1a88a_row3_col3\" class=\"data row3 col3\" >0.089278</td>\n",
       "    </tr>\n",
       "    <tr>\n",
       "      <th id=\"T_1a88a_level0_row4\" class=\"row_heading level0 row4\" >4</th>\n",
       "      <td id=\"T_1a88a_row4_col0\" class=\"data row4 col0\" >4</td>\n",
       "      <td id=\"T_1a88a_row4_col1\" class=\"data row4 col1\" >40</td>\n",
       "      <td id=\"T_1a88a_row4_col2\" class=\"data row4 col2\" >0.055755</td>\n",
       "      <td id=\"T_1a88a_row4_col3\" class=\"data row4 col3\" >0.119280</td>\n",
       "    </tr>\n",
       "    <tr>\n",
       "      <th id=\"T_1a88a_level0_row5\" class=\"row_heading level0 row5\" >5</th>\n",
       "      <td id=\"T_1a88a_row5_col0\" class=\"data row5 col0\" >5</td>\n",
       "      <td id=\"T_1a88a_row5_col1\" class=\"data row5 col1\" >50</td>\n",
       "      <td id=\"T_1a88a_row5_col2\" class=\"data row5 col2\" >0.207775</td>\n",
       "      <td id=\"T_1a88a_row5_col3\" class=\"data row5 col3\" >0.239617</td>\n",
       "    </tr>\n",
       "    <tr>\n",
       "      <th id=\"T_1a88a_level0_row6\" class=\"row_heading level0 row6\" >6</th>\n",
       "      <td id=\"T_1a88a_row6_col0\" class=\"data row6 col0\" >6</td>\n",
       "      <td id=\"T_1a88a_row6_col1\" class=\"data row6 col1\" >60</td>\n",
       "      <td id=\"T_1a88a_row6_col2\" class=\"data row6 col2\" >0.390838</td>\n",
       "      <td id=\"T_1a88a_row6_col3\" class=\"data row6 col3\" >0.577644</td>\n",
       "    </tr>\n",
       "    <tr>\n",
       "      <th id=\"T_1a88a_level0_row7\" class=\"row_heading level0 row7\" >7</th>\n",
       "      <td id=\"T_1a88a_row7_col0\" class=\"data row7 col0\" >7</td>\n",
       "      <td id=\"T_1a88a_row7_col1\" class=\"data row7 col1\" >70</td>\n",
       "      <td id=\"T_1a88a_row7_col2\" class=\"data row7 col2\" >0.168770</td>\n",
       "      <td id=\"T_1a88a_row7_col3\" class=\"data row7 col3\" >0.580753</td>\n",
       "    </tr>\n",
       "    <tr>\n",
       "      <th id=\"T_1a88a_level0_row8\" class=\"row_heading level0 row8\" >8</th>\n",
       "      <td id=\"T_1a88a_row8_col0\" class=\"data row8 col0\" >8</td>\n",
       "      <td id=\"T_1a88a_row8_col1\" class=\"data row8 col1\" >80</td>\n",
       "      <td id=\"T_1a88a_row8_col2\" class=\"data row8 col2\" >0.300908</td>\n",
       "      <td id=\"T_1a88a_row8_col3\" class=\"data row8 col3\" >0.756885</td>\n",
       "    </tr>\n",
       "    <tr>\n",
       "      <th id=\"T_1a88a_level0_row9\" class=\"row_heading level0 row9\" >9</th>\n",
       "      <td id=\"T_1a88a_row9_col0\" class=\"data row9 col0\" >9</td>\n",
       "      <td id=\"T_1a88a_row9_col1\" class=\"data row9 col1\" >90</td>\n",
       "      <td id=\"T_1a88a_row9_col2\" class=\"data row9 col2\" >0.560156</td>\n",
       "      <td id=\"T_1a88a_row9_col3\" class=\"data row9 col3\" >0.264777</td>\n",
       "    </tr>\n",
       "    <tr>\n",
       "      <th id=\"T_1a88a_level0_row10\" class=\"row_heading level0 row10\" >10</th>\n",
       "      <td id=\"T_1a88a_row10_col0\" class=\"data row10 col0\" >10</td>\n",
       "      <td id=\"T_1a88a_row10_col1\" class=\"data row10 col1\" >100</td>\n",
       "      <td id=\"T_1a88a_row10_col2\" class=\"data row10 col2\" >0.788772</td>\n",
       "      <td id=\"T_1a88a_row10_col3\" class=\"data row10 col3\" >0.617924</td>\n",
       "    </tr>\n",
       "    <tr>\n",
       "      <th id=\"T_1a88a_level0_row11\" class=\"row_heading level0 row11\" >11</th>\n",
       "      <td id=\"T_1a88a_row11_col0\" class=\"data row11 col0\" >11</td>\n",
       "      <td id=\"T_1a88a_row11_col1\" class=\"data row11 col1\" >110</td>\n",
       "      <td id=\"T_1a88a_row11_col2\" class=\"data row11 col2\" >0.553052</td>\n",
       "      <td id=\"T_1a88a_row11_col3\" class=\"data row11 col3\" >1.053390</td>\n",
       "    </tr>\n",
       "    <tr>\n",
       "      <th id=\"T_1a88a_level0_row12\" class=\"row_heading level0 row12\" >12</th>\n",
       "      <td id=\"T_1a88a_row12_col0\" class=\"data row12 col0\" >12</td>\n",
       "      <td id=\"T_1a88a_row12_col1\" class=\"data row12 col1\" >120</td>\n",
       "      <td id=\"T_1a88a_row12_col2\" class=\"data row12 col2\" >3.309456</td>\n",
       "      <td id=\"T_1a88a_row12_col3\" class=\"data row12 col3\" >2.788970</td>\n",
       "    </tr>\n",
       "    <tr>\n",
       "      <th id=\"T_1a88a_level0_row13\" class=\"row_heading level0 row13\" >13</th>\n",
       "      <td id=\"T_1a88a_row13_col0\" class=\"data row13 col0\" >13</td>\n",
       "      <td id=\"T_1a88a_row13_col1\" class=\"data row13 col1\" >130</td>\n",
       "      <td id=\"T_1a88a_row13_col2\" class=\"data row13 col2\" >0.159050</td>\n",
       "      <td id=\"T_1a88a_row13_col3\" class=\"data row13 col3\" >0.543131</td>\n",
       "    </tr>\n",
       "    <tr>\n",
       "      <th id=\"T_1a88a_level0_row14\" class=\"row_heading level0 row14\" >14</th>\n",
       "      <td id=\"T_1a88a_row14_col0\" class=\"data row14 col0\" >14</td>\n",
       "      <td id=\"T_1a88a_row14_col1\" class=\"data row14 col1\" >140</td>\n",
       "      <td id=\"T_1a88a_row14_col2\" class=\"data row14 col2\" >2.010067</td>\n",
       "      <td id=\"T_1a88a_row14_col3\" class=\"data row14 col3\" >2.568250</td>\n",
       "    </tr>\n",
       "    <tr>\n",
       "      <th id=\"T_1a88a_level0_row15\" class=\"row_heading level0 row15\" >15</th>\n",
       "      <td id=\"T_1a88a_row15_col0\" class=\"data row15 col0\" >15</td>\n",
       "      <td id=\"T_1a88a_row15_col1\" class=\"data row15 col1\" >150</td>\n",
       "      <td id=\"T_1a88a_row15_col2\" class=\"data row15 col2\" >1.331375</td>\n",
       "      <td id=\"T_1a88a_row15_col3\" class=\"data row15 col3\" >3.814351</td>\n",
       "    </tr>\n",
       "    <tr>\n",
       "      <th id=\"T_1a88a_level0_row16\" class=\"row_heading level0 row16\" >16</th>\n",
       "      <td id=\"T_1a88a_row16_col0\" class=\"data row16 col0\" >16</td>\n",
       "      <td id=\"T_1a88a_row16_col1\" class=\"data row16 col1\" >160</td>\n",
       "      <td id=\"T_1a88a_row16_col2\" class=\"data row16 col2\" >6.410145</td>\n",
       "      <td id=\"T_1a88a_row16_col3\" class=\"data row16 col3\" >7.732963</td>\n",
       "    </tr>\n",
       "    <tr>\n",
       "      <th id=\"T_1a88a_level0_row17\" class=\"row_heading level0 row17\" >17</th>\n",
       "      <td id=\"T_1a88a_row17_col0\" class=\"data row17 col0\" >17</td>\n",
       "      <td id=\"T_1a88a_row17_col1\" class=\"data row17 col1\" >170</td>\n",
       "      <td id=\"T_1a88a_row17_col2\" class=\"data row17 col2\" >1.668243</td>\n",
       "      <td id=\"T_1a88a_row17_col3\" class=\"data row17 col3\" >4.356299</td>\n",
       "    </tr>\n",
       "    <tr>\n",
       "      <th id=\"T_1a88a_level0_row18\" class=\"row_heading level0 row18\" >18</th>\n",
       "      <td id=\"T_1a88a_row18_col0\" class=\"data row18 col0\" >18</td>\n",
       "      <td id=\"T_1a88a_row18_col1\" class=\"data row18 col1\" >180</td>\n",
       "      <td id=\"T_1a88a_row18_col2\" class=\"data row18 col2\" >4.726462</td>\n",
       "      <td id=\"T_1a88a_row18_col3\" class=\"data row18 col3\" >9.419058</td>\n",
       "    </tr>\n",
       "  </tbody>\n",
       "</table>\n"
      ],
      "text/plain": [
       "<pandas.io.formats.style.Styler at 0x16b35f680>"
      ]
     },
     "execution_count": 214,
     "metadata": {},
     "output_type": "execute_result"
    }
   ],
   "source": [
    "chain_df['Matrix Chain ID'] = chain_df['Matrix Chain ID'].astype(int)  \n",
    "chain_df['Matrix Size Upper Bound'] = chain_df['Matrix Size Upper Bound'].astype(int)\n",
    "chain_df.style"
   ]
  },
  {
   "cell_type": "markdown",
   "id": "bca44ec1-b8c3-44fb-8085-2be7434f2126",
   "metadata": {},
   "source": [
    "### Plot setup"
   ]
  },
  {
   "cell_type": "code",
   "execution_count": 215,
   "id": "7d771717-531c-46d8-a6c9-5feaf3fd3a0f",
   "metadata": {},
   "outputs": [
    {
     "data": {
      "text/plain": [
       "<Axes: title={'center': 'Comparison of Sequential Versus Optimal Chain Matrix Multiplication Time'}, xlabel='Matrix Size Upper Bound', ylabel='Time'>"
      ]
     },
     "execution_count": 215,
     "metadata": {},
     "output_type": "execute_result"
    },
    {
     "data": {
      "image/png": "[encoded data removed]",
      "text/plain": [
       "<Figure size 640x480 with 1 Axes>"
      ]
     },
     "metadata": {},
     "output_type": "display_data"
    }
   ],
   "source": [
    "# titles and labels\n",
    "chain_plot = chain_df.plot(x='Matrix Size Upper Bound', y=['Sequential Time', 'Optimal Time'], kind='line')\n",
    "chain_plot.set_xlabel('Matrix Size Upper Bound')\n",
    "chain_plot.set_ylabel('Time')\n",
    "chain_plot.set_title('Comparison of Sequential Versus Optimal Chain Matrix Multiplication Time')\n",
    "chain_plot\n"
   ]
  }
 ],
 "metadata": {
  "kernelspec": {
   "display_name": "Python 3 (ipykernel)",
   "language": "python",
   "name": "python3"
  },
  "language_info": {
   "codemirror_mode": {
    "name": "ipython",
    "version": 3
   },
   "file_extension": ".py",
   "mimetype": "text/x-python",
   "name": "python",
   "nbconvert_exporter": "python",
   "pygments_lexer": "ipython3",
   "version": "3.12.4"
  }
 },
 "nbformat": 4,
 "nbformat_minor": 5
}
